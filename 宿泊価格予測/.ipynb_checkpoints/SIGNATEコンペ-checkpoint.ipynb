{
 "cells": [
  {
   "cell_type": "code",
   "execution_count": 1,
   "id": "14403595",
   "metadata": {},
   "outputs": [],
   "source": [
    "#ライブラリのインポート\n",
    "import pandas as pd\n",
    "import numpy as np\n",
    "from matplotlib import pyplot as plt"
   ]
  },
  {
   "cell_type": "code",
   "execution_count": 2,
   "id": "18ba28c5",
   "metadata": {},
   "outputs": [
    {
     "data": {
      "text/html": [
       "<div>\n",
       "<style scoped>\n",
       "    .dataframe tbody tr th:only-of-type {\n",
       "        vertical-align: middle;\n",
       "    }\n",
       "\n",
       "    .dataframe tbody tr th {\n",
       "        vertical-align: top;\n",
       "    }\n",
       "\n",
       "    .dataframe thead th {\n",
       "        text-align: right;\n",
       "    }\n",
       "</style>\n",
       "<table border=\"1\" class=\"dataframe\">\n",
       "  <thead>\n",
       "    <tr style=\"text-align: right;\">\n",
       "      <th></th>\n",
       "      <th>0</th>\n",
       "      <th>10</th>\n",
       "    </tr>\n",
       "  </thead>\n",
       "  <tbody>\n",
       "    <tr>\n",
       "      <th>0</th>\n",
       "      <td>1</td>\n",
       "      <td>10</td>\n",
       "    </tr>\n",
       "    <tr>\n",
       "      <th>1</th>\n",
       "      <td>2</td>\n",
       "      <td>10</td>\n",
       "    </tr>\n",
       "    <tr>\n",
       "      <th>2</th>\n",
       "      <td>3</td>\n",
       "      <td>10</td>\n",
       "    </tr>\n",
       "    <tr>\n",
       "      <th>3</th>\n",
       "      <td>4</td>\n",
       "      <td>10</td>\n",
       "    </tr>\n",
       "    <tr>\n",
       "      <th>4</th>\n",
       "      <td>5</td>\n",
       "      <td>10</td>\n",
       "    </tr>\n",
       "  </tbody>\n",
       "</table>\n",
       "</div>"
      ],
      "text/plain": [
       "   0  10\n",
       "0  1  10\n",
       "1  2  10\n",
       "2  3  10\n",
       "3  4  10\n",
       "4  5  10"
      ]
     },
     "execution_count": 2,
     "metadata": {},
     "output_type": "execute_result"
    }
   ],
   "source": [
    "#サンプルデータの読み込み\n",
    "sample = pd.read_csv('sample_submit.csv')\n",
    "sample.head()"
   ]
  },
  {
   "cell_type": "code",
   "execution_count": 3,
   "id": "03c273c1",
   "metadata": {},
   "outputs": [
    {
     "data": {
      "text/html": [
       "<div>\n",
       "<style scoped>\n",
       "    .dataframe tbody tr th:only-of-type {\n",
       "        vertical-align: middle;\n",
       "    }\n",
       "\n",
       "    .dataframe tbody tr th {\n",
       "        vertical-align: top;\n",
       "    }\n",
       "\n",
       "    .dataframe thead th {\n",
       "        text-align: right;\n",
       "    }\n",
       "</style>\n",
       "<table border=\"1\" class=\"dataframe\">\n",
       "  <thead>\n",
       "    <tr style=\"text-align: right;\">\n",
       "      <th></th>\n",
       "      <th>id</th>\n",
       "      <th>accommodates</th>\n",
       "      <th>amenities</th>\n",
       "      <th>bathrooms</th>\n",
       "      <th>bed_type</th>\n",
       "      <th>bedrooms</th>\n",
       "      <th>beds</th>\n",
       "      <th>cancellation_policy</th>\n",
       "      <th>city</th>\n",
       "      <th>cleaning_fee</th>\n",
       "      <th>...</th>\n",
       "      <th>latitude</th>\n",
       "      <th>longitude</th>\n",
       "      <th>name</th>\n",
       "      <th>neighbourhood</th>\n",
       "      <th>number_of_reviews</th>\n",
       "      <th>property_type</th>\n",
       "      <th>review_scores_rating</th>\n",
       "      <th>room_type</th>\n",
       "      <th>thumbnail_url</th>\n",
       "      <th>zipcode</th>\n",
       "    </tr>\n",
       "  </thead>\n",
       "  <tbody>\n",
       "    <tr>\n",
       "      <th>0</th>\n",
       "      <td>0</td>\n",
       "      <td>6</td>\n",
       "      <td>{TV,\"Cable TV\",\"Wireless Internet\",\"Air condit...</td>\n",
       "      <td>2.0</td>\n",
       "      <td>Real Bed</td>\n",
       "      <td>2.0</td>\n",
       "      <td>2.0</td>\n",
       "      <td>strict</td>\n",
       "      <td>Boston</td>\n",
       "      <td>t</td>\n",
       "      <td>...</td>\n",
       "      <td>42.359278</td>\n",
       "      <td>-71.069962</td>\n",
       "      <td>Gorgeous 2BR/2BA Duplex in Beacon Hill</td>\n",
       "      <td>Beacon Hill</td>\n",
       "      <td>58</td>\n",
       "      <td>House</td>\n",
       "      <td>90.0</td>\n",
       "      <td>Entire home/apt</td>\n",
       "      <td>https://a0.muscache.com/im/pictures/7e4808b4-5...</td>\n",
       "      <td>02114</td>\n",
       "    </tr>\n",
       "    <tr>\n",
       "      <th>1</th>\n",
       "      <td>1</td>\n",
       "      <td>3</td>\n",
       "      <td>{TV,\"Cable TV\",Internet,\"Wireless Internet\",\"A...</td>\n",
       "      <td>1.0</td>\n",
       "      <td>Real Bed</td>\n",
       "      <td>1.0</td>\n",
       "      <td>1.0</td>\n",
       "      <td>moderate</td>\n",
       "      <td>LA</td>\n",
       "      <td>t</td>\n",
       "      <td>...</td>\n",
       "      <td>34.084747</td>\n",
       "      <td>-118.367355</td>\n",
       "      <td>Luxury 1 Bedroom West Hollywood City Center</td>\n",
       "      <td>West Hollywood</td>\n",
       "      <td>4</td>\n",
       "      <td>Guesthouse</td>\n",
       "      <td>100.0</td>\n",
       "      <td>Entire home/apt</td>\n",
       "      <td>https://a0.muscache.com/im/pictures/5392fbd6-6...</td>\n",
       "      <td>90046</td>\n",
       "    </tr>\n",
       "    <tr>\n",
       "      <th>2</th>\n",
       "      <td>2</td>\n",
       "      <td>2</td>\n",
       "      <td>{TV,\"Wireless Internet\",\"Air conditioning\",Kit...</td>\n",
       "      <td>1.0</td>\n",
       "      <td>Real Bed</td>\n",
       "      <td>0.0</td>\n",
       "      <td>1.0</td>\n",
       "      <td>flexible</td>\n",
       "      <td>NYC</td>\n",
       "      <td>f</td>\n",
       "      <td>...</td>\n",
       "      <td>40.720541</td>\n",
       "      <td>-73.959192</td>\n",
       "      <td>Bedroom with Patio in Prime Williamsburg Locat...</td>\n",
       "      <td>Williamsburg</td>\n",
       "      <td>0</td>\n",
       "      <td>Apartment</td>\n",
       "      <td>NaN</td>\n",
       "      <td>Private room</td>\n",
       "      <td>https://a0.muscache.com/im/pictures/544d3b89-d...</td>\n",
       "      <td>11249.0</td>\n",
       "    </tr>\n",
       "    <tr>\n",
       "      <th>3</th>\n",
       "      <td>3</td>\n",
       "      <td>4</td>\n",
       "      <td>{TV,\"Cable TV\",Internet,\"Wireless Internet\",\"A...</td>\n",
       "      <td>1.0</td>\n",
       "      <td>Real Bed</td>\n",
       "      <td>1.0</td>\n",
       "      <td>2.0</td>\n",
       "      <td>strict</td>\n",
       "      <td>NYC</td>\n",
       "      <td>f</td>\n",
       "      <td>...</td>\n",
       "      <td>40.681117</td>\n",
       "      <td>-73.944091</td>\n",
       "      <td>Cozy apartment in Brooklyn</td>\n",
       "      <td>Bedford-Stuyvesant</td>\n",
       "      <td>0</td>\n",
       "      <td>Apartment</td>\n",
       "      <td>NaN</td>\n",
       "      <td>Entire home/apt</td>\n",
       "      <td>https://a0.muscache.com/im/pictures/26baf7ba-0...</td>\n",
       "      <td>11216</td>\n",
       "    </tr>\n",
       "    <tr>\n",
       "      <th>4</th>\n",
       "      <td>4</td>\n",
       "      <td>3</td>\n",
       "      <td>{TV,Internet,\"Wireless Internet\",\"Air conditio...</td>\n",
       "      <td>1.5</td>\n",
       "      <td>Real Bed</td>\n",
       "      <td>1.0</td>\n",
       "      <td>2.0</td>\n",
       "      <td>strict</td>\n",
       "      <td>LA</td>\n",
       "      <td>t</td>\n",
       "      <td>...</td>\n",
       "      <td>34.150995</td>\n",
       "      <td>-118.409359</td>\n",
       "      <td>Cozy, sunny, pet friendly loft/apt</td>\n",
       "      <td>NaN</td>\n",
       "      <td>6</td>\n",
       "      <td>Loft</td>\n",
       "      <td>92.0</td>\n",
       "      <td>Entire home/apt</td>\n",
       "      <td>https://a0.muscache.com/im/pictures/86107545/9...</td>\n",
       "      <td>91604</td>\n",
       "    </tr>\n",
       "  </tbody>\n",
       "</table>\n",
       "<p>5 rows × 28 columns</p>\n",
       "</div>"
      ],
      "text/plain": [
       "   id  accommodates                                          amenities  \\\n",
       "0   0             6  {TV,\"Cable TV\",\"Wireless Internet\",\"Air condit...   \n",
       "1   1             3  {TV,\"Cable TV\",Internet,\"Wireless Internet\",\"A...   \n",
       "2   2             2  {TV,\"Wireless Internet\",\"Air conditioning\",Kit...   \n",
       "3   3             4  {TV,\"Cable TV\",Internet,\"Wireless Internet\",\"A...   \n",
       "4   4             3  {TV,Internet,\"Wireless Internet\",\"Air conditio...   \n",
       "\n",
       "   bathrooms  bed_type  bedrooms  beds cancellation_policy    city  \\\n",
       "0        2.0  Real Bed       2.0   2.0              strict  Boston   \n",
       "1        1.0  Real Bed       1.0   1.0            moderate      LA   \n",
       "2        1.0  Real Bed       0.0   1.0            flexible     NYC   \n",
       "3        1.0  Real Bed       1.0   2.0              strict     NYC   \n",
       "4        1.5  Real Bed       1.0   2.0              strict      LA   \n",
       "\n",
       "  cleaning_fee  ...   latitude   longitude  \\\n",
       "0            t  ...  42.359278  -71.069962   \n",
       "1            t  ...  34.084747 -118.367355   \n",
       "2            f  ...  40.720541  -73.959192   \n",
       "3            f  ...  40.681117  -73.944091   \n",
       "4            t  ...  34.150995 -118.409359   \n",
       "\n",
       "                                                name       neighbourhood  \\\n",
       "0             Gorgeous 2BR/2BA Duplex in Beacon Hill         Beacon Hill   \n",
       "1        Luxury 1 Bedroom West Hollywood City Center      West Hollywood   \n",
       "2  Bedroom with Patio in Prime Williamsburg Locat...        Williamsburg   \n",
       "3                         Cozy apartment in Brooklyn  Bedford-Stuyvesant   \n",
       "4                 Cozy, sunny, pet friendly loft/apt                 NaN   \n",
       "\n",
       "  number_of_reviews property_type review_scores_rating        room_type  \\\n",
       "0                58         House                 90.0  Entire home/apt   \n",
       "1                 4    Guesthouse                100.0  Entire home/apt   \n",
       "2                 0     Apartment                  NaN     Private room   \n",
       "3                 0     Apartment                  NaN  Entire home/apt   \n",
       "4                 6          Loft                 92.0  Entire home/apt   \n",
       "\n",
       "                                       thumbnail_url  zipcode  \n",
       "0  https://a0.muscache.com/im/pictures/7e4808b4-5...    02114  \n",
       "1  https://a0.muscache.com/im/pictures/5392fbd6-6...    90046  \n",
       "2  https://a0.muscache.com/im/pictures/544d3b89-d...  11249.0  \n",
       "3  https://a0.muscache.com/im/pictures/26baf7ba-0...    11216  \n",
       "4  https://a0.muscache.com/im/pictures/86107545/9...    91604  \n",
       "\n",
       "[5 rows x 28 columns]"
      ]
     },
     "execution_count": 3,
     "metadata": {},
     "output_type": "execute_result"
    }
   ],
   "source": [
    "#評価用データの読み込み\n",
    "test = pd.read_csv(\"test.csv\")\n",
    "test.head()"
   ]
  },
  {
   "cell_type": "code",
   "execution_count": 4,
   "id": "dc54e6fc",
   "metadata": {},
   "outputs": [
    {
     "data": {
      "text/html": [
       "<div>\n",
       "<style scoped>\n",
       "    .dataframe tbody tr th:only-of-type {\n",
       "        vertical-align: middle;\n",
       "    }\n",
       "\n",
       "    .dataframe tbody tr th {\n",
       "        vertical-align: top;\n",
       "    }\n",
       "\n",
       "    .dataframe thead th {\n",
       "        text-align: right;\n",
       "    }\n",
       "</style>\n",
       "<table border=\"1\" class=\"dataframe\">\n",
       "  <thead>\n",
       "    <tr style=\"text-align: right;\">\n",
       "      <th></th>\n",
       "      <th>id</th>\n",
       "      <th>accommodates</th>\n",
       "      <th>amenities</th>\n",
       "      <th>bathrooms</th>\n",
       "      <th>bed_type</th>\n",
       "      <th>bedrooms</th>\n",
       "      <th>beds</th>\n",
       "      <th>cancellation_policy</th>\n",
       "      <th>city</th>\n",
       "      <th>cleaning_fee</th>\n",
       "      <th>...</th>\n",
       "      <th>longitude</th>\n",
       "      <th>name</th>\n",
       "      <th>neighbourhood</th>\n",
       "      <th>number_of_reviews</th>\n",
       "      <th>property_type</th>\n",
       "      <th>review_scores_rating</th>\n",
       "      <th>room_type</th>\n",
       "      <th>thumbnail_url</th>\n",
       "      <th>zipcode</th>\n",
       "      <th>y</th>\n",
       "    </tr>\n",
       "  </thead>\n",
       "  <tbody>\n",
       "    <tr>\n",
       "      <th>0</th>\n",
       "      <td>0</td>\n",
       "      <td>6</td>\n",
       "      <td>{TV,\"Wireless Internet\",Kitchen,\"Free parking ...</td>\n",
       "      <td>2.0</td>\n",
       "      <td>Real Bed</td>\n",
       "      <td>1.0</td>\n",
       "      <td>4.0</td>\n",
       "      <td>flexible</td>\n",
       "      <td>LA</td>\n",
       "      <td>t</td>\n",
       "      <td>...</td>\n",
       "      <td>-118.154761</td>\n",
       "      <td>The Penthouse</td>\n",
       "      <td>NaN</td>\n",
       "      <td>1</td>\n",
       "      <td>Apartment</td>\n",
       "      <td>60.0</td>\n",
       "      <td>Private room</td>\n",
       "      <td>NaN</td>\n",
       "      <td>90804</td>\n",
       "      <td>138.0</td>\n",
       "    </tr>\n",
       "    <tr>\n",
       "      <th>1</th>\n",
       "      <td>1</td>\n",
       "      <td>2</td>\n",
       "      <td>{TV,\"Cable TV\",Internet,\"Wireless Internet\",\"A...</td>\n",
       "      <td>1.0</td>\n",
       "      <td>Real Bed</td>\n",
       "      <td>1.0</td>\n",
       "      <td>1.0</td>\n",
       "      <td>strict</td>\n",
       "      <td>DC</td>\n",
       "      <td>t</td>\n",
       "      <td>...</td>\n",
       "      <td>-76.978190</td>\n",
       "      <td>Guest Bedroom in Brookland</td>\n",
       "      <td>Brookland</td>\n",
       "      <td>9</td>\n",
       "      <td>House</td>\n",
       "      <td>100.0</td>\n",
       "      <td>Private room</td>\n",
       "      <td>https://a0.muscache.com/im/pictures/e4d8b51f-6...</td>\n",
       "      <td>20018</td>\n",
       "      <td>42.0</td>\n",
       "    </tr>\n",
       "    <tr>\n",
       "      <th>2</th>\n",
       "      <td>2</td>\n",
       "      <td>2</td>\n",
       "      <td>{TV,Internet,\"Wireless Internet\",Kitchen,\"Indo...</td>\n",
       "      <td>2.0</td>\n",
       "      <td>Real Bed</td>\n",
       "      <td>1.0</td>\n",
       "      <td>1.0</td>\n",
       "      <td>strict</td>\n",
       "      <td>NYC</td>\n",
       "      <td>t</td>\n",
       "      <td>...</td>\n",
       "      <td>-73.926240</td>\n",
       "      <td>Clean Modern Room in Lux Apt 1 Block From J Train</td>\n",
       "      <td>Bushwick</td>\n",
       "      <td>27</td>\n",
       "      <td>Apartment</td>\n",
       "      <td>83.0</td>\n",
       "      <td>Private room</td>\n",
       "      <td>https://a0.muscache.com/im/pictures/5ffecc9b-d...</td>\n",
       "      <td>NaN</td>\n",
       "      <td>65.0</td>\n",
       "    </tr>\n",
       "    <tr>\n",
       "      <th>3</th>\n",
       "      <td>3</td>\n",
       "      <td>2</td>\n",
       "      <td>{TV,\"Cable TV\",Internet,\"Wireless Internet\",\"A...</td>\n",
       "      <td>1.0</td>\n",
       "      <td>Real Bed</td>\n",
       "      <td>1.0</td>\n",
       "      <td>1.0</td>\n",
       "      <td>strict</td>\n",
       "      <td>SF</td>\n",
       "      <td>t</td>\n",
       "      <td>...</td>\n",
       "      <td>-122.411906</td>\n",
       "      <td>BEST views + reviews! 5/5 stars*****</td>\n",
       "      <td>Nob Hill</td>\n",
       "      <td>38</td>\n",
       "      <td>Apartment</td>\n",
       "      <td>95.0</td>\n",
       "      <td>Private room</td>\n",
       "      <td>NaN</td>\n",
       "      <td>94133</td>\n",
       "      <td>166.0</td>\n",
       "    </tr>\n",
       "    <tr>\n",
       "      <th>4</th>\n",
       "      <td>4</td>\n",
       "      <td>2</td>\n",
       "      <td>{TV,Internet,\"Wireless Internet\",\"Air conditio...</td>\n",
       "      <td>1.0</td>\n",
       "      <td>Real Bed</td>\n",
       "      <td>1.0</td>\n",
       "      <td>1.0</td>\n",
       "      <td>strict</td>\n",
       "      <td>NYC</td>\n",
       "      <td>t</td>\n",
       "      <td>...</td>\n",
       "      <td>-73.974691</td>\n",
       "      <td>Charming 1-bedroom - UWS Manhattan</td>\n",
       "      <td>Upper West Side</td>\n",
       "      <td>5</td>\n",
       "      <td>Apartment</td>\n",
       "      <td>100.0</td>\n",
       "      <td>Entire home/apt</td>\n",
       "      <td>https://a0.muscache.com/im/pictures/92879730/5...</td>\n",
       "      <td>10024</td>\n",
       "      <td>165.0</td>\n",
       "    </tr>\n",
       "  </tbody>\n",
       "</table>\n",
       "<p>5 rows × 29 columns</p>\n",
       "</div>"
      ],
      "text/plain": [
       "   id  accommodates                                          amenities  \\\n",
       "0   0             6  {TV,\"Wireless Internet\",Kitchen,\"Free parking ...   \n",
       "1   1             2  {TV,\"Cable TV\",Internet,\"Wireless Internet\",\"A...   \n",
       "2   2             2  {TV,Internet,\"Wireless Internet\",Kitchen,\"Indo...   \n",
       "3   3             2  {TV,\"Cable TV\",Internet,\"Wireless Internet\",\"A...   \n",
       "4   4             2  {TV,Internet,\"Wireless Internet\",\"Air conditio...   \n",
       "\n",
       "   bathrooms  bed_type  bedrooms  beds cancellation_policy city cleaning_fee  \\\n",
       "0        2.0  Real Bed       1.0   4.0            flexible   LA            t   \n",
       "1        1.0  Real Bed       1.0   1.0              strict   DC            t   \n",
       "2        2.0  Real Bed       1.0   1.0              strict  NYC            t   \n",
       "3        1.0  Real Bed       1.0   1.0              strict   SF            t   \n",
       "4        1.0  Real Bed       1.0   1.0              strict  NYC            t   \n",
       "\n",
       "   ...   longitude                                               name  \\\n",
       "0  ... -118.154761                                      The Penthouse   \n",
       "1  ...  -76.978190                         Guest Bedroom in Brookland   \n",
       "2  ...  -73.926240  Clean Modern Room in Lux Apt 1 Block From J Train   \n",
       "3  ... -122.411906               BEST views + reviews! 5/5 stars*****   \n",
       "4  ...  -73.974691                 Charming 1-bedroom - UWS Manhattan   \n",
       "\n",
       "     neighbourhood number_of_reviews property_type review_scores_rating  \\\n",
       "0              NaN                 1     Apartment                 60.0   \n",
       "1        Brookland                 9         House                100.0   \n",
       "2         Bushwick                27     Apartment                 83.0   \n",
       "3         Nob Hill                38     Apartment                 95.0   \n",
       "4  Upper West Side                 5     Apartment                100.0   \n",
       "\n",
       "         room_type                                      thumbnail_url  \\\n",
       "0     Private room                                                NaN   \n",
       "1     Private room  https://a0.muscache.com/im/pictures/e4d8b51f-6...   \n",
       "2     Private room  https://a0.muscache.com/im/pictures/5ffecc9b-d...   \n",
       "3     Private room                                                NaN   \n",
       "4  Entire home/apt  https://a0.muscache.com/im/pictures/92879730/5...   \n",
       "\n",
       "   zipcode      y  \n",
       "0    90804  138.0  \n",
       "1    20018   42.0  \n",
       "2      NaN   65.0  \n",
       "3    94133  166.0  \n",
       "4    10024  165.0  \n",
       "\n",
       "[5 rows x 29 columns]"
      ]
     },
     "execution_count": 4,
     "metadata": {},
     "output_type": "execute_result"
    }
   ],
   "source": [
    "#学習用データの読み込み\n",
    "train = pd.read_csv(\"train.csv\")\n",
    "train.head()"
   ]
  },
  {
   "cell_type": "code",
   "execution_count": 5,
   "id": "2980c65f",
   "metadata": {},
   "outputs": [
    {
     "data": {
      "text/plain": [
       "Index(['id', 'accommodates', 'amenities', 'bathrooms', 'bed_type', 'bedrooms',\n",
       "       'beds', 'cancellation_policy', 'city', 'cleaning_fee', 'description',\n",
       "       'first_review', 'host_has_profile_pic', 'host_identity_verified',\n",
       "       'host_response_rate', 'host_since', 'instant_bookable', 'last_review',\n",
       "       'latitude', 'longitude', 'name', 'neighbourhood', 'number_of_reviews',\n",
       "       'property_type', 'review_scores_rating', 'room_type', 'thumbnail_url',\n",
       "       'zipcode', 'y'],\n",
       "      dtype='object')"
      ]
     },
     "execution_count": 5,
     "metadata": {},
     "output_type": "execute_result"
    }
   ],
   "source": [
    "train.columns"
   ]
  },
  {
   "cell_type": "code",
   "execution_count": 6,
   "id": "f547eb6c",
   "metadata": {},
   "outputs": [],
   "source": [
    "X = train.loc[:,['accommodates', 'amenities', 'bathrooms', 'bed_type', 'bedrooms',\n",
    "       'beds', 'cancellation_policy', 'city', 'cleaning_fee', 'description',\n",
    "       'first_review', 'host_has_profile_pic', 'host_identity_verified',\n",
    "       'host_response_rate', 'host_since', 'instant_bookable', 'last_review',\n",
    "       'latitude', 'longitude', 'name', 'neighbourhood', 'number_of_reviews',\n",
    "       'property_type', 'review_scores_rating', 'room_type', 'thumbnail_url',\n",
    "       'zipcode']]\n",
    "Y = train.loc[:,['y']]\n",
    "Xt = test.loc[:,['accommodates', 'amenities', 'bathrooms', 'bed_type', 'bedrooms',\n",
    "       'beds', 'cancellation_policy', 'city', 'cleaning_fee', 'description',\n",
    "       'first_review', 'host_has_profile_pic', 'host_identity_verified',\n",
    "       'host_response_rate', 'host_since', 'instant_bookable', 'last_review',\n",
    "       'latitude', 'longitude', 'name', 'neighbourhood', 'number_of_reviews',\n",
    "       'property_type', 'review_scores_rating', 'room_type', 'thumbnail_url',\n",
    "       'zipcode']]"
   ]
  },
  {
   "cell_type": "code",
   "execution_count": 7,
   "id": "3df48d8d",
   "metadata": {},
   "outputs": [
    {
     "name": "stdout",
     "output_type": "stream",
     "text": [
      "(55583, 29)\n"
     ]
    }
   ],
   "source": [
    "#学習用データの行数列数の確認\n",
    "print(train.shape)"
   ]
  },
  {
   "cell_type": "code",
   "execution_count": 8,
   "id": "1783a23a",
   "metadata": {},
   "outputs": [
    {
     "name": "stdout",
     "output_type": "stream",
     "text": [
      "29\n"
     ]
    }
   ],
   "source": [
    "#学習用データの列数だけを抽出表示\n",
    "print(train.shape[1])"
   ]
  },
  {
   "cell_type": "code",
   "execution_count": 9,
   "id": "545411dc",
   "metadata": {},
   "outputs": [
    {
     "name": "stdout",
     "output_type": "stream",
     "text": [
      "<class 'pandas.core.frame.DataFrame'>\n",
      "RangeIndex: 55583 entries, 0 to 55582\n",
      "Data columns (total 29 columns):\n",
      " #   Column                  Non-Null Count  Dtype  \n",
      "---  ------                  --------------  -----  \n",
      " 0   id                      55583 non-null  int64  \n",
      " 1   accommodates            55583 non-null  int64  \n",
      " 2   amenities               55583 non-null  object \n",
      " 3   bathrooms               55436 non-null  float64\n",
      " 4   bed_type                55583 non-null  object \n",
      " 5   bedrooms                55512 non-null  float64\n",
      " 6   beds                    55487 non-null  float64\n",
      " 7   cancellation_policy     55583 non-null  object \n",
      " 8   city                    55583 non-null  object \n",
      " 9   cleaning_fee            55583 non-null  object \n",
      " 10  description             55583 non-null  object \n",
      " 11  first_review            43675 non-null  object \n",
      " 12  host_has_profile_pic    55435 non-null  object \n",
      " 13  host_identity_verified  55435 non-null  object \n",
      " 14  host_response_rate      41879 non-null  object \n",
      " 15  host_since              55435 non-null  object \n",
      " 16  instant_bookable        55583 non-null  object \n",
      " 17  last_review             43703 non-null  object \n",
      " 18  latitude                55583 non-null  float64\n",
      " 19  longitude               55583 non-null  float64\n",
      " 20  name                    55583 non-null  object \n",
      " 21  neighbourhood           50423 non-null  object \n",
      " 22  number_of_reviews       55583 non-null  int64  \n",
      " 23  property_type           55583 non-null  object \n",
      " 24  review_scores_rating    43027 non-null  float64\n",
      " 25  room_type               55583 non-null  object \n",
      " 26  thumbnail_url           49438 non-null  object \n",
      " 27  zipcode                 54867 non-null  object \n",
      " 28  y                       55583 non-null  float64\n",
      "dtypes: float64(7), int64(3), object(19)\n",
      "memory usage: 12.3+ MB\n"
     ]
    }
   ],
   "source": [
    "#各カラムのデータ型確認\n",
    "train.info()"
   ]
  },
  {
   "cell_type": "code",
   "execution_count": 10,
   "id": "139512fa",
   "metadata": {},
   "outputs": [
    {
     "name": "stdout",
     "output_type": "stream",
     "text": [
      "          id  accommodates  amenities  bathrooms  bed_type  bedrooms   beds  \\\n",
      "0      False         False      False      False     False     False  False   \n",
      "1      False         False      False      False     False     False  False   \n",
      "2      False         False      False      False     False     False  False   \n",
      "3      False         False      False      False     False     False  False   \n",
      "4      False         False      False      False     False     False  False   \n",
      "...      ...           ...        ...        ...       ...       ...    ...   \n",
      "55578  False         False      False      False     False     False  False   \n",
      "55579  False         False      False      False     False     False  False   \n",
      "55580  False         False      False      False     False     False  False   \n",
      "55581  False         False      False      False     False     False  False   \n",
      "55582  False         False      False      False     False     False  False   \n",
      "\n",
      "       cancellation_policy   city  cleaning_fee  ...  longitude   name  \\\n",
      "0                    False  False         False  ...      False  False   \n",
      "1                    False  False         False  ...      False  False   \n",
      "2                    False  False         False  ...      False  False   \n",
      "3                    False  False         False  ...      False  False   \n",
      "4                    False  False         False  ...      False  False   \n",
      "...                    ...    ...           ...  ...        ...    ...   \n",
      "55578                False  False         False  ...      False  False   \n",
      "55579                False  False         False  ...      False  False   \n",
      "55580                False  False         False  ...      False  False   \n",
      "55581                False  False         False  ...      False  False   \n",
      "55582                False  False         False  ...      False  False   \n",
      "\n",
      "       neighbourhood  number_of_reviews  property_type  review_scores_rating  \\\n",
      "0               True              False          False                 False   \n",
      "1              False              False          False                 False   \n",
      "2              False              False          False                 False   \n",
      "3              False              False          False                 False   \n",
      "4              False              False          False                 False   \n",
      "...              ...                ...            ...                   ...   \n",
      "55578          False              False          False                 False   \n",
      "55579           True              False          False                 False   \n",
      "55580          False              False          False                 False   \n",
      "55581          False              False          False                 False   \n",
      "55582          False              False          False                  True   \n",
      "\n",
      "       room_type  thumbnail_url  zipcode      y  \n",
      "0          False           True    False  False  \n",
      "1          False          False    False  False  \n",
      "2          False          False     True  False  \n",
      "3          False           True    False  False  \n",
      "4          False          False    False  False  \n",
      "...          ...            ...      ...    ...  \n",
      "55578      False          False    False  False  \n",
      "55579      False          False    False  False  \n",
      "55580      False          False    False  False  \n",
      "55581      False          False    False  False  \n",
      "55582      False          False    False  False  \n",
      "\n",
      "[55583 rows x 29 columns]\n"
     ]
    }
   ],
   "source": [
    "#欠損値の確認\n",
    "print(train.isnull())"
   ]
  },
  {
   "cell_type": "code",
   "execution_count": 11,
   "id": "120db608",
   "metadata": {},
   "outputs": [
    {
     "name": "stdout",
     "output_type": "stream",
     "text": [
      "id                            0\n",
      "accommodates                  0\n",
      "amenities                     0\n",
      "bathrooms                   147\n",
      "bed_type                      0\n",
      "bedrooms                     71\n",
      "beds                         96\n",
      "cancellation_policy           0\n",
      "city                          0\n",
      "cleaning_fee                  0\n",
      "description                   0\n",
      "first_review              11908\n",
      "host_has_profile_pic        148\n",
      "host_identity_verified      148\n",
      "host_response_rate        13704\n",
      "host_since                  148\n",
      "instant_bookable              0\n",
      "last_review               11880\n",
      "latitude                      0\n",
      "longitude                     0\n",
      "name                          0\n",
      "neighbourhood              5160\n",
      "number_of_reviews             0\n",
      "property_type                 0\n",
      "review_scores_rating      12556\n",
      "room_type                     0\n",
      "thumbnail_url              6145\n",
      "zipcode                     716\n",
      "y                             0\n",
      "dtype: int64\n"
     ]
    }
   ],
   "source": [
    "#isnull関数とsum関数をあわせて各カラムの欠損値の数を確認\n",
    "print(train.isnull().sum())"
   ]
  },
  {
   "cell_type": "code",
   "execution_count": 12,
   "id": "01e23957",
   "metadata": {},
   "outputs": [
    {
     "name": "stdout",
     "output_type": "stream",
     "text": [
      "Real Bed         94\n",
      "Pull-out Sofa     2\n",
      "Name: bed_type, dtype: int64\n"
     ]
    }
   ],
   "source": [
    "#欠損値の原因を確認（ひとまずbedを確認）\n",
    "beds_nan_train = train[train['beds'].isnull()]\n",
    "#bed_typeの種類ごとの件数を表示\n",
    "print(beds_nan_train['bed_type'].value_counts())"
   ]
  },
  {
   "cell_type": "code",
   "execution_count": 13,
   "id": "820180bc",
   "metadata": {},
   "outputs": [],
   "source": [
    "#もっとも多い種類を入力\n",
    "bed_type = 'Real Bed'"
   ]
  },
  {
   "cell_type": "code",
   "execution_count": 14,
   "id": "fc96d2f4",
   "metadata": {},
   "outputs": [],
   "source": [
    "#beds, bedrooms, bathroomsに欠損値を含むデータを削除\n",
    "train = train.dropna(subset=['beds','bedrooms','bathrooms'])"
   ]
  },
  {
   "cell_type": "code",
   "execution_count": 15,
   "id": "6a260596",
   "metadata": {},
   "outputs": [],
   "source": [
    "#欠損値の補完\n",
    "#review_scores_ratingの平均値を変数mean_valに代入\n",
    "mean_val = train['review_scores_rating'].mean()\n",
    "\n",
    "#review_scores_ratingの欠損値を平均値で補完\n",
    "train['review_scores_rating'] = train['review_scores_rating'].fillna(mean_val)"
   ]
  },
  {
   "cell_type": "code",
   "execution_count": 16,
   "id": "171d282f",
   "metadata": {},
   "outputs": [
    {
     "name": "stdout",
     "output_type": "stream",
     "text": [
      "<class 'pandas.core.frame.DataFrame'>\n",
      "<class 'pandas.core.series.Series'>\n"
     ]
    }
   ],
   "source": [
    "#データを選択\n",
    "#変数trainのデータ型確認（DataFrame型であることを確認）\n",
    "print(type(train))\n",
    "#変数trainからy列のみ抜き出し、変数yに代入\n",
    "y = train['y']\n",
    "#変数yのデータ型確認（Series型であることを確認）\n",
    "print(type(train['y']))"
   ]
  },
  {
   "cell_type": "code",
   "execution_count": 17,
   "id": "3db077a4",
   "metadata": {},
   "outputs": [
    {
     "data": {
      "text/plain": [
       "array([ 4.,  1.,  3.,  6.,  2., 10.,  5.,  8.,  7.,  9., 12., 16., 13.,\n",
       "       11., 18., 15.,  0., 14.])"
      ]
     },
     "execution_count": 17,
     "metadata": {},
     "output_type": "execute_result"
    }
   ],
   "source": [
    "#説明変数の確認（一覧：unique）\n",
    "train['beds'].unique()"
   ]
  },
  {
   "cell_type": "code",
   "execution_count": 18,
   "id": "efef5efb",
   "metadata": {},
   "outputs": [
    {
     "data": {
      "text/plain": [
       "18"
      ]
     },
     "execution_count": 18,
     "metadata": {},
     "output_type": "execute_result"
    }
   ],
   "source": [
    "#説明変数の確認（種類数：nunique）\n",
    "train['beds'].nunique()"
   ]
  },
  {
   "cell_type": "code",
   "execution_count": 19,
   "id": "c908b8f3",
   "metadata": {},
   "outputs": [
    {
     "data": {
      "text/plain": [
       "1.0     33727\n",
       "2.0     12502\n",
       "3.0      4803\n",
       "4.0      2340\n",
       "5.0       941\n",
       "6.0       490\n",
       "7.0       174\n",
       "8.0       141\n",
       "10.0       62\n",
       "9.0        56\n",
       "16.0       31\n",
       "12.0       21\n",
       "11.0       19\n",
       "13.0        8\n",
       "15.0        4\n",
       "14.0        2\n",
       "18.0        1\n",
       "0.0         1\n",
       "Name: beds, dtype: int64"
      ]
     },
     "execution_count": 19,
     "metadata": {},
     "output_type": "execute_result"
    }
   ],
   "source": [
    "#説明変数の確認（各値に該当するデータがいくつあるか：value_counts）\n",
    "train['beds'].value_counts()"
   ]
  },
  {
   "cell_type": "code",
   "execution_count": 20,
   "id": "4cc7edf0",
   "metadata": {},
   "outputs": [
    {
     "data": {
      "text/html": [
       "<div>\n",
       "<style scoped>\n",
       "    .dataframe tbody tr th:only-of-type {\n",
       "        vertical-align: middle;\n",
       "    }\n",
       "\n",
       "    .dataframe tbody tr th {\n",
       "        vertical-align: top;\n",
       "    }\n",
       "\n",
       "    .dataframe thead th {\n",
       "        text-align: right;\n",
       "    }\n",
       "</style>\n",
       "<table border=\"1\" class=\"dataframe\">\n",
       "  <thead>\n",
       "    <tr style=\"text-align: right;\">\n",
       "      <th></th>\n",
       "      <th>id</th>\n",
       "      <th>accommodates</th>\n",
       "      <th>bathrooms</th>\n",
       "      <th>bedrooms</th>\n",
       "      <th>beds</th>\n",
       "      <th>latitude</th>\n",
       "      <th>longitude</th>\n",
       "      <th>number_of_reviews</th>\n",
       "      <th>review_scores_rating</th>\n",
       "      <th>y</th>\n",
       "    </tr>\n",
       "  </thead>\n",
       "  <tbody>\n",
       "    <tr>\n",
       "      <th>count</th>\n",
       "      <td>55323.000000</td>\n",
       "      <td>55323.000000</td>\n",
       "      <td>55323.000000</td>\n",
       "      <td>55323.000000</td>\n",
       "      <td>55323.000000</td>\n",
       "      <td>55323.000000</td>\n",
       "      <td>55323.000000</td>\n",
       "      <td>55323.000000</td>\n",
       "      <td>55323.000000</td>\n",
       "      <td>55323.000000</td>\n",
       "    </tr>\n",
       "    <tr>\n",
       "      <th>mean</th>\n",
       "      <td>27787.181588</td>\n",
       "      <td>3.157023</td>\n",
       "      <td>1.236800</td>\n",
       "      <td>1.265857</td>\n",
       "      <td>1.713248</td>\n",
       "      <td>38.451258</td>\n",
       "      <td>-92.343858</td>\n",
       "      <td>20.923450</td>\n",
       "      <td>94.088167</td>\n",
       "      <td>160.307341</td>\n",
       "    </tr>\n",
       "    <tr>\n",
       "      <th>std</th>\n",
       "      <td>16043.404061</td>\n",
       "      <td>2.154204</td>\n",
       "      <td>0.583499</td>\n",
       "      <td>0.850230</td>\n",
       "      <td>1.259037</td>\n",
       "      <td>3.081077</td>\n",
       "      <td>21.686759</td>\n",
       "      <td>37.941297</td>\n",
       "      <td>6.858740</td>\n",
       "      <td>168.266655</td>\n",
       "    </tr>\n",
       "    <tr>\n",
       "      <th>min</th>\n",
       "      <td>0.000000</td>\n",
       "      <td>1.000000</td>\n",
       "      <td>0.000000</td>\n",
       "      <td>0.000000</td>\n",
       "      <td>0.000000</td>\n",
       "      <td>33.338905</td>\n",
       "      <td>-122.511500</td>\n",
       "      <td>0.000000</td>\n",
       "      <td>20.000000</td>\n",
       "      <td>1.000000</td>\n",
       "    </tr>\n",
       "    <tr>\n",
       "      <th>25%</th>\n",
       "      <td>13892.500000</td>\n",
       "      <td>2.000000</td>\n",
       "      <td>1.000000</td>\n",
       "      <td>1.000000</td>\n",
       "      <td>1.000000</td>\n",
       "      <td>34.128248</td>\n",
       "      <td>-118.341932</td>\n",
       "      <td>1.000000</td>\n",
       "      <td>93.000000</td>\n",
       "      <td>74.000000</td>\n",
       "    </tr>\n",
       "    <tr>\n",
       "      <th>50%</th>\n",
       "      <td>27778.000000</td>\n",
       "      <td>2.000000</td>\n",
       "      <td>1.000000</td>\n",
       "      <td>1.000000</td>\n",
       "      <td>1.000000</td>\n",
       "      <td>40.663287</td>\n",
       "      <td>-76.995867</td>\n",
       "      <td>6.000000</td>\n",
       "      <td>94.088167</td>\n",
       "      <td>111.000000</td>\n",
       "    </tr>\n",
       "    <tr>\n",
       "      <th>75%</th>\n",
       "      <td>41681.500000</td>\n",
       "      <td>4.000000</td>\n",
       "      <td>1.000000</td>\n",
       "      <td>1.000000</td>\n",
       "      <td>2.000000</td>\n",
       "      <td>40.746292</td>\n",
       "      <td>-73.954703</td>\n",
       "      <td>23.000000</td>\n",
       "      <td>99.000000</td>\n",
       "      <td>185.000000</td>\n",
       "    </tr>\n",
       "    <tr>\n",
       "      <th>max</th>\n",
       "      <td>55582.000000</td>\n",
       "      <td>16.000000</td>\n",
       "      <td>8.000000</td>\n",
       "      <td>10.000000</td>\n",
       "      <td>18.000000</td>\n",
       "      <td>42.390437</td>\n",
       "      <td>-70.999166</td>\n",
       "      <td>605.000000</td>\n",
       "      <td>100.000000</td>\n",
       "      <td>1999.000000</td>\n",
       "    </tr>\n",
       "  </tbody>\n",
       "</table>\n",
       "</div>"
      ],
      "text/plain": [
       "                 id  accommodates     bathrooms      bedrooms          beds  \\\n",
       "count  55323.000000  55323.000000  55323.000000  55323.000000  55323.000000   \n",
       "mean   27787.181588      3.157023      1.236800      1.265857      1.713248   \n",
       "std    16043.404061      2.154204      0.583499      0.850230      1.259037   \n",
       "min        0.000000      1.000000      0.000000      0.000000      0.000000   \n",
       "25%    13892.500000      2.000000      1.000000      1.000000      1.000000   \n",
       "50%    27778.000000      2.000000      1.000000      1.000000      1.000000   \n",
       "75%    41681.500000      4.000000      1.000000      1.000000      2.000000   \n",
       "max    55582.000000     16.000000      8.000000     10.000000     18.000000   \n",
       "\n",
       "           latitude     longitude  number_of_reviews  review_scores_rating  \\\n",
       "count  55323.000000  55323.000000       55323.000000          55323.000000   \n",
       "mean      38.451258    -92.343858          20.923450             94.088167   \n",
       "std        3.081077     21.686759          37.941297              6.858740   \n",
       "min       33.338905   -122.511500           0.000000             20.000000   \n",
       "25%       34.128248   -118.341932           1.000000             93.000000   \n",
       "50%       40.663287    -76.995867           6.000000             94.088167   \n",
       "75%       40.746292    -73.954703          23.000000             99.000000   \n",
       "max       42.390437    -70.999166         605.000000            100.000000   \n",
       "\n",
       "                  y  \n",
       "count  55323.000000  \n",
       "mean     160.307341  \n",
       "std      168.266655  \n",
       "min        1.000000  \n",
       "25%       74.000000  \n",
       "50%      111.000000  \n",
       "75%      185.000000  \n",
       "max     1999.000000  "
      ]
     },
     "execution_count": 20,
     "metadata": {},
     "output_type": "execute_result"
    }
   ],
   "source": [
    "#基本統計量の確認\n",
    "train.describe()"
   ]
  },
  {
   "cell_type": "code",
   "execution_count": 21,
   "id": "80a6c1c5",
   "metadata": {},
   "outputs": [
    {
     "name": "stderr",
     "output_type": "stream",
     "text": [
      "/opt/anaconda3/lib/python3.9/site-packages/matplotlib/backends/backend_agg.py:240: RuntimeWarning: Glyph 23487 missing from current font.\n",
      "  font.set_text(s, 0.0, flags=flags)\n",
      "/opt/anaconda3/lib/python3.9/site-packages/matplotlib/backends/backend_agg.py:240: RuntimeWarning: Glyph 27850 missing from current font.\n",
      "  font.set_text(s, 0.0, flags=flags)\n",
      "/opt/anaconda3/lib/python3.9/site-packages/matplotlib/backends/backend_agg.py:240: RuntimeWarning: Glyph 20385 missing from current font.\n",
      "  font.set_text(s, 0.0, flags=flags)\n",
      "/opt/anaconda3/lib/python3.9/site-packages/matplotlib/backends/backend_agg.py:240: RuntimeWarning: Glyph 26684 missing from current font.\n",
      "  font.set_text(s, 0.0, flags=flags)\n",
      "/opt/anaconda3/lib/python3.9/site-packages/matplotlib/backends/backend_agg.py:203: RuntimeWarning: Glyph 23487 missing from current font.\n",
      "  font.set_text(s, 0, flags=flags)\n",
      "/opt/anaconda3/lib/python3.9/site-packages/matplotlib/backends/backend_agg.py:203: RuntimeWarning: Glyph 27850 missing from current font.\n",
      "  font.set_text(s, 0, flags=flags)\n",
      "/opt/anaconda3/lib/python3.9/site-packages/matplotlib/backends/backend_agg.py:203: RuntimeWarning: Glyph 20385 missing from current font.\n",
      "  font.set_text(s, 0, flags=flags)\n",
      "/opt/anaconda3/lib/python3.9/site-packages/matplotlib/backends/backend_agg.py:203: RuntimeWarning: Glyph 26684 missing from current font.\n",
      "  font.set_text(s, 0, flags=flags)\n"
     ]
    },
    {
     "data": {
      "image/png": "[encoded data removed]",
      "text/plain": [
       "<Figure size 432x288 with 1 Axes>"
      ]
     },
     "metadata": {
      "needs_background": "light"
     },
     "output_type": "display_data"
    }
   ],
   "source": [
    "#データの可視化\n",
    "#変数trainからy列のみを抜き出し、変数yに代入\n",
    "y = train['y']\n",
    "#ヒストグラムの可視化\n",
    "y.plot.hist(title='宿泊価格')\n",
    "#可視化結果の表示\n",
    "plt.show()"
   ]
  },
  {
   "cell_type": "code",
   "execution_count": 22,
   "id": "64949aae",
   "metadata": {},
   "outputs": [
    {
     "data": {
      "text/plain": [
       "1.0        1\n",
       "5.0        1\n",
       "10.0      23\n",
       "11.0       1\n",
       "12.0       3\n",
       "          ..\n",
       "1938.0     1\n",
       "1950.0     6\n",
       "1980.0     1\n",
       "1995.0     4\n",
       "1999.0     3\n",
       "Name: y, Length: 713, dtype: int64"
      ]
     },
     "execution_count": 22,
     "metadata": {},
     "output_type": "execute_result"
    }
   ],
   "source": [
    "#外れ値の確認（削除）\n",
    "train['y'].value_counts().sort_index()"
   ]
  },
  {
   "cell_type": "code",
   "execution_count": 23,
   "id": "68fddae3",
   "metadata": {},
   "outputs": [
    {
     "name": "stdout",
     "output_type": "stream",
     "text": [
      "55323\n",
      "55321\n"
     ]
    }
   ],
   "source": [
    "#外れ値の確認（削除）続き\n",
    "#削除前の行数を確認\n",
    "before_rows = train.shape[0]\n",
    "print(before_rows)\n",
    "#削除（10ドル以上のデータのみにする）\n",
    "train = train[train['y']>=10]\n",
    "#削除後の行数を確認\n",
    "after_rows = train.shape[0]\n",
    "print(after_rows)"
   ]
  },
  {
   "cell_type": "code",
   "execution_count": 24,
   "id": "dcbf490a",
   "metadata": {},
   "outputs": [
    {
     "data": {
      "text/plain": [
       "Entire home/apt    30826\n",
       "Private room       22893\n",
       "Shared room         1602\n",
       "Name: room_type, dtype: int64"
      ]
     },
     "execution_count": 24,
     "metadata": {},
     "output_type": "execute_result"
    }
   ],
   "source": [
    "#データ値の頻度値の算出（棒グラフ作成には「どの値がどれくらいあるか」確認すべし）\n",
    "train['room_type'].value_counts()"
   ]
  },
  {
   "cell_type": "code",
   "execution_count": 25,
   "id": "d3da5d8d",
   "metadata": {},
   "outputs": [
    {
     "name": "stderr",
     "output_type": "stream",
     "text": [
      "/opt/anaconda3/lib/python3.9/site-packages/matplotlib/backends/backend_agg.py:240: RuntimeWarning: Glyph 12398 missing from current font.\n",
      "  font.set_text(s, 0.0, flags=flags)\n",
      "/opt/anaconda3/lib/python3.9/site-packages/matplotlib/backends/backend_agg.py:240: RuntimeWarning: Glyph 38971 missing from current font.\n",
      "  font.set_text(s, 0.0, flags=flags)\n",
      "/opt/anaconda3/lib/python3.9/site-packages/matplotlib/backends/backend_agg.py:240: RuntimeWarning: Glyph 24230 missing from current font.\n",
      "  font.set_text(s, 0.0, flags=flags)\n",
      "/opt/anaconda3/lib/python3.9/site-packages/matplotlib/backends/backend_agg.py:203: RuntimeWarning: Glyph 12398 missing from current font.\n",
      "  font.set_text(s, 0, flags=flags)\n",
      "/opt/anaconda3/lib/python3.9/site-packages/matplotlib/backends/backend_agg.py:203: RuntimeWarning: Glyph 38971 missing from current font.\n",
      "  font.set_text(s, 0, flags=flags)\n",
      "/opt/anaconda3/lib/python3.9/site-packages/matplotlib/backends/backend_agg.py:203: RuntimeWarning: Glyph 24230 missing from current font.\n",
      "  font.set_text(s, 0, flags=flags)\n"
     ]
    },
    {
     "data": {
      "image/png": "[encoded data removed]",
      "text/plain": [
       "<Figure size 432x288 with 1 Axes>"
      ]
     },
     "metadata": {
      "needs_background": "light"
     },
     "output_type": "display_data"
    }
   ],
   "source": [
    "#質的データにおけるデータ分布の確認\n",
    "#上の頻度値をcountsに代入\n",
    "counts = train['room_type'].value_counts()\n",
    "#棒グラフの可視化\n",
    "counts.plot.bar(title='room_typeの頻度')\n",
    "#x軸とy軸に名前\n",
    "plt.xlabel('room_type')\n",
    "plt.ylabel('count')\n",
    "#可視化結果を表示\n",
    "plt.show()"
   ]
  },
  {
   "cell_type": "code",
   "execution_count": 26,
   "id": "de8cff2d",
   "metadata": {},
   "outputs": [
    {
     "data": {
      "text/plain": [
       "1.0    43364\n",
       "2.0     6039\n",
       "1.5     2870\n",
       "2.5     1185\n",
       "3.0      793\n",
       "3.5      308\n",
       "4.0      223\n",
       "0.0      155\n",
       "0.5      154\n",
       "4.5       82\n",
       "5.0       49\n",
       "8.0       37\n",
       "5.5       28\n",
       "6.0       14\n",
       "6.5        8\n",
       "7.0        8\n",
       "7.5        4\n",
       "Name: bathrooms, dtype: int64"
      ]
     },
     "execution_count": 26,
     "metadata": {},
     "output_type": "execute_result"
    }
   ],
   "source": [
    "#ここまでの要領で他の変数も可視化してみる\n",
    "train['bathrooms'].value_counts()"
   ]
  },
  {
   "cell_type": "code",
   "execution_count": 27,
   "id": "a1582d83",
   "metadata": {},
   "outputs": [
    {
     "data": {
      "image/png": "[encoded data removed]",
      "text/plain": [
       "<Figure size 432x288 with 1 Axes>"
      ]
     },
     "metadata": {
      "needs_background": "light"
     },
     "output_type": "display_data"
    }
   ],
   "source": [
    "#箱ひげ図\n",
    "#seabornをsnsと略してインポート\n",
    "import seaborn as sns\n",
    "#accommodatesをx軸、yをy軸にした箱ひげ図を描写\n",
    "sns.boxplot(data=train, x='accommodates', y='y')\n",
    "#表示範囲の制限\n",
    "plt.ylim(0,1000)\n",
    "#可視化結果の表示\n",
    "plt.show()"
   ]
  },
  {
   "cell_type": "code",
   "execution_count": 28,
   "id": "807cbc78",
   "metadata": {},
   "outputs": [
    {
     "name": "stdout",
     "output_type": "stream",
     "text": [
      "                            id  accommodates  bathrooms  bedrooms      beds  \\\n",
      "id                    1.000000      0.005336   0.005254  0.002619  0.006015   \n",
      "accommodates          0.005336      1.000000   0.502631  0.708908  0.806720   \n",
      "bathrooms             0.005254      0.502631   1.000000  0.586309  0.524848   \n",
      "bedrooms              0.002619      0.708908   0.586309  1.000000  0.708311   \n",
      "beds                  0.006015      0.806720   0.524848  0.708311  1.000000   \n",
      "latitude             -0.007467     -0.079466  -0.135436 -0.057357 -0.080455   \n",
      "longitude            -0.005732     -0.086381  -0.132036 -0.073983 -0.082604   \n",
      "number_of_reviews     0.004187      0.042774  -0.040279 -0.033710  0.031499   \n",
      "review_scores_rating  0.002155     -0.016633   0.005506  0.008285 -0.025156   \n",
      "y                    -0.000605      0.522398   0.456173  0.495749  0.435510   \n",
      "\n",
      "                      latitude  longitude  number_of_reviews  \\\n",
      "id                   -0.007467  -0.005732           0.004187   \n",
      "accommodates         -0.079466  -0.086381           0.042774   \n",
      "bathrooms            -0.135436  -0.132036          -0.040279   \n",
      "bedrooms             -0.057357  -0.073983          -0.033710   \n",
      "beds                 -0.080455  -0.082604           0.031499   \n",
      "latitude              1.000000   0.896483          -0.016547   \n",
      "longitude             0.896483   1.000000          -0.048897   \n",
      "number_of_reviews    -0.016547  -0.048897           1.000000   \n",
      "review_scores_rating -0.030824  -0.043787           0.011657   \n",
      "y                    -0.028791  -0.056141          -0.068748   \n",
      "\n",
      "                      review_scores_rating         y  \n",
      "id                                0.002155 -0.000605  \n",
      "accommodates                     -0.016633  0.522398  \n",
      "bathrooms                         0.005506  0.456173  \n",
      "bedrooms                          0.008285  0.495749  \n",
      "beds                             -0.025156  0.435510  \n",
      "latitude                         -0.030824 -0.028791  \n",
      "longitude                        -0.043787 -0.056141  \n",
      "number_of_reviews                 0.011657 -0.068748  \n",
      "review_scores_rating              1.000000  0.045424  \n",
      "y                                 0.045424  1.000000  \n"
     ]
    }
   ],
   "source": [
    "#相関係数（相関度合いを数値化したもの）\n",
    "print(train.corr())"
   ]
  },
  {
   "cell_type": "code",
   "execution_count": 29,
   "id": "e09e1302",
   "metadata": {},
   "outputs": [
    {
     "data": {
      "image/png": "[encoded data removed]",
      "text/plain": [
       "<Figure size 432x288 with 1 Axes>"
      ]
     },
     "metadata": {
      "needs_background": "light"
     },
     "output_type": "display_data"
    },
    {
     "data": {
      "image/png": "[encoded data removed]",
      "text/plain": [
       "<Figure size 432x288 with 1 Axes>"
      ]
     },
     "metadata": {
      "needs_background": "light"
     },
     "output_type": "display_data"
    }
   ],
   "source": [
    "#散布図\n",
    "train.plot.scatter(x='review_scores_rating', y='y')\n",
    "#表示\n",
    "plt.show()\n",
    "#散布図\n",
    "train.plot.scatter(x='number_of_reviews', y='y')\n",
    "#表示\n",
    "plt.show()"
   ]
  },
  {
   "cell_type": "code",
   "execution_count": 30,
   "id": "712d1ee3",
   "metadata": {},
   "outputs": [
    {
     "data": {
      "image/png": "[encoded data removed]",
      "text/plain": [
       "<Figure size 432x288 with 1 Axes>"
      ]
     },
     "metadata": {
      "needs_background": "light"
     },
     "output_type": "display_data"
    },
    {
     "data": {
      "image/png": "[encoded data removed]",
      "text/plain": [
       "<Figure size 432x288 with 1 Axes>"
      ]
     },
     "metadata": {
      "needs_background": "light"
     },
     "output_type": "display_data"
    }
   ],
   "source": [
    "#箱ひげ図（2）\n",
    "sns.boxplot(data=train, x='bed_type', y='y')\n",
    "plt.ylim(0,1000)\n",
    "plt.show()\n",
    "\n",
    "sns.boxplot(data=train, x='bathrooms', y='y')\n",
    "plt.show()"
   ]
  },
  {
   "cell_type": "code",
   "execution_count": 31,
   "id": "8c609c3c",
   "metadata": {},
   "outputs": [
    {
     "name": "stdout",
     "output_type": "stream",
     "text": [
      "          id  accommodates                                          amenities  \\\n",
      "1393    1393            10  {\"Free parking on premises\",\"Pets allowed\",\"Fa...   \n",
      "20726  20726             2             {\"Pets allowed\",\"Family/kid friendly\"}   \n",
      "54988  54988            16  {Internet,\"Wireless Internet\",\"Air conditionin...   \n",
      "\n",
      "       bathrooms  bed_type  bedrooms  beds cancellation_policy     city  \\\n",
      "1393         0.0     Couch       0.0   1.0            flexible       LA   \n",
      "20726        0.0  Real Bed       0.0   1.0            flexible       DC   \n",
      "54988        0.0  Real Bed       0.0   1.0              strict  Chicago   \n",
      "\n",
      "      cleaning_fee  ...   longitude                                      name  \\\n",
      "1393             f  ... -118.769788         Wedding Location Malibu Mountains   \n",
      "20726            f  ...  -77.040188  Automobile Parking Place in Mt. Pleasant   \n",
      "54988            t  ...  -87.690777      THE PAVILION + EVENTS + LOGAN SQUARE   \n",
      "\n",
      "        neighbourhood number_of_reviews property_type review_scores_rating  \\\n",
      "1393              NaN                 0   Earth House            94.088167   \n",
      "20726  Mount Pleasant                 0         Other            94.088167   \n",
      "54988    Logan Square                 0         Other            94.088167   \n",
      "\n",
      "             room_type                                      thumbnail_url  \\\n",
      "1393   Entire home/apt  https://a0.muscache.com/im/pictures/584c6447-6...   \n",
      "20726  Entire home/apt                                                NaN   \n",
      "54988  Entire home/apt  https://a0.muscache.com/im/pictures/3b9b0613-5...   \n",
      "\n",
      "       zipcode       y  \n",
      "1393     90265  1000.0  \n",
      "20726    20010  1000.0  \n",
      "54988    60647  1500.0  \n",
      "\n",
      "[3 rows x 29 columns]\n",
      "1393            Wedding Location Malibu Mountains\n",
      "20726    Automobile Parking Place in Mt. Pleasant\n",
      "54988        THE PAVILION + EVENTS + LOGAN SQUARE\n",
      "Name: name, dtype: object\n"
     ]
    }
   ],
   "source": [
    "#特殊なデータの確認\n",
    "#trainからbathroomsが0.0でyが1000ドル以上のデータを抜き出して表示\n",
    "train_tmp = train[(train['bathrooms']==0.0) & (train['y']>=1000)]\n",
    "print(train_tmp)\n",
    "\n",
    "#train_tmpのnameカラムを表示して、どんな物件か確認\n",
    "print(train_tmp['name'])"
   ]
  },
  {
   "cell_type": "code",
   "execution_count": 32,
   "id": "30da9218",
   "metadata": {},
   "outputs": [
    {
     "name": "stdout",
     "output_type": "stream",
     "text": [
      "       accommodates        room_type  bed_type  bathrooms\n",
      "0                 6     Private room  Real Bed        2.0\n",
      "1                 2     Private room  Real Bed        1.0\n",
      "2                 2     Private room  Real Bed        2.0\n",
      "3                 2     Private room  Real Bed        1.0\n",
      "4                 2  Entire home/apt  Real Bed        1.0\n",
      "...             ...              ...       ...        ...\n",
      "55578             4  Entire home/apt  Real Bed        1.5\n",
      "55579             2     Private room  Real Bed        1.0\n",
      "55580             2     Private room  Real Bed        1.0\n",
      "55581             1     Private room  Real Bed        1.5\n",
      "55582             1     Private room  Real Bed        1.0\n",
      "\n",
      "[55321 rows x 4 columns]\n"
     ]
    }
   ],
   "source": [
    "#複数カラムの選択\n",
    "#review_scores_ratingとnumber_of_reviewsは自社物件データには存在しないことがわかった\n",
    "#この2つの特徴量は予測に使うことができない\n",
    "#上記以外の要素を持つリストを作成\n",
    "select_columns = ['accommodates','room_type','bed_type','bathrooms']\n",
    "#複数カラムを抜き出して表示\n",
    "print(train[select_columns])"
   ]
  },
  {
   "cell_type": "code",
   "execution_count": 33,
   "id": "65b9fa9d",
   "metadata": {},
   "outputs": [
    {
     "name": "stdout",
     "output_type": "stream",
     "text": [
      "       cleaning_fee  host_identity_verified  instant_bookable\n",
      "0                 1                     0.0                 0\n",
      "1                 1                     1.0                 0\n",
      "2                 1                     0.0                 1\n",
      "3                 1                     1.0                 1\n",
      "4                 1                     1.0                 0\n",
      "...             ...                     ...               ...\n",
      "55578             1                     1.0                 0\n",
      "55579             0                     1.0                 0\n",
      "55580             1                     0.0                 0\n",
      "55581             1                     1.0                 1\n",
      "55582             0                     0.0                 0\n",
      "\n",
      "[55321 rows x 3 columns]\n"
     ]
    }
   ],
   "source": [
    "#特徴量加工\n",
    "#引数がtなら1、fなら0を返す関数change_tf()を作成\n",
    "def change_tf(x):\n",
    "    if x == 't':\n",
    "        return 1\n",
    "    elif x == 'f':\n",
    "        return 0\n",
    "#下記3つの変数のt,fを1,0に変換\n",
    "train['cleaning_fee'] = train['cleaning_fee'].apply(change_tf)\n",
    "train['host_identity_verified'] = train['host_identity_verified'].apply(change_tf)\n",
    "train['instant_bookable'] = train['instant_bookable'].apply(change_tf)\n",
    "#正しく変換されたか確認\n",
    "print(train[['cleaning_fee','host_identity_verified','instant_bookable']])"
   ]
  },
  {
   "cell_type": "code",
   "execution_count": 34,
   "id": "bb2c6479",
   "metadata": {},
   "outputs": [
    {
     "data": {
      "image/png": "[encoded data removed]",
      "text/plain": [
       "<Figure size 432x288 with 1 Axes>"
      ]
     },
     "metadata": {
      "needs_background": "light"
     },
     "output_type": "display_data"
    },
    {
     "data": {
      "image/png": "[encoded data removed]",
      "text/plain": [
       "<Figure size 432x288 with 1 Axes>"
      ]
     },
     "metadata": {
      "needs_background": "light"
     },
     "output_type": "display_data"
    },
    {
     "data": {
      "image/png": "[encoded data removed]",
      "text/plain": [
       "<Figure size 432x288 with 1 Axes>"
      ]
     },
     "metadata": {
      "needs_background": "light"
     },
     "output_type": "display_data"
    }
   ],
   "source": [
    "#これらの特徴量と価格にはどんな関係があるか確認\n",
    "#箱ひげ図\n",
    "sns.boxplot(x = train['cleaning_fee'], y = train['y'])\n",
    "plt.ylim(0,600)\n",
    "plt.show()\n",
    "\n",
    "#箱ひげ図\n",
    "sns.boxplot(x = train['host_identity_verified'], y = train['y'])\n",
    "plt.ylim(0,600)\n",
    "plt.show()\n",
    "\n",
    "#箱ひげ図\n",
    "sns.boxplot(x = train['instant_bookable'], y = train['y'])\n",
    "plt.ylim(0,600)\n",
    "plt.show()"
   ]
  },
  {
   "cell_type": "code",
   "execution_count": 35,
   "id": "c58f849b",
   "metadata": {},
   "outputs": [
    {
     "name": "stdout",
     "output_type": "stream",
     "text": [
      "   accommodates  bathrooms  cleaning_fee  room_type_Private room  \\\n",
      "0             6        2.0             1                       1   \n",
      "1             2        1.0             1                       1   \n",
      "2             2        2.0             1                       1   \n",
      "3             2        1.0             1                       1   \n",
      "4             2        1.0             1                       0   \n",
      "\n",
      "   room_type_Shared room  bed_type_Couch  bed_type_Futon  \\\n",
      "0                      0               0               0   \n",
      "1                      0               0               0   \n",
      "2                      0               0               0   \n",
      "3                      0               0               0   \n",
      "4                      0               0               0   \n",
      "\n",
      "   bed_type_Pull-out Sofa  bed_type_Real Bed  \n",
      "0                       0                  1  \n",
      "1                       0                  1  \n",
      "2                       0                  1  \n",
      "3                       0                  1  \n",
      "4                       0                  1  \n"
     ]
    }
   ],
   "source": [
    "#ダミー変数化（質的変数である特徴量をダミー変数化）\n",
    "#使用カラムの選択\n",
    "select_columns = ['room_type','accommodates','bed_type','bathrooms','cleaning_fee']\n",
    "#room_typeとbed_typeをダミー変数化してdummy_trainに代入\n",
    "dummy_train = pd.get_dummies(train[select_columns],drop_first=True)\n",
    "#ダミー変数化されていることを確認\n",
    "print(dummy_train.head())"
   ]
  },
  {
   "cell_type": "code",
   "execution_count": 36,
   "id": "7f67c6dc",
   "metadata": {},
   "outputs": [],
   "source": [
    "#データ分割（モデル作成する前準備として、データを学習データと評価データに分割）\n",
    "#分割にはscikit-learnライブラリ内のtrain_test_split関数を使う\n",
    "#dummy_trainとカラムyを学習データと評価データに分割\n",
    "from sklearn.model_selection import train_test_split\n",
    "X_train, X_test, y_train, y_test = train_test_split(dummy_train, train['y'], random_state=1234)"
   ]
  },
  {
   "cell_type": "code",
   "execution_count": 37,
   "id": "b6235e75",
   "metadata": {},
   "outputs": [
    {
     "name": "stdout",
     "output_type": "stream",
     "text": [
      "5.0\n",
      "2.23606797749979\n"
     ]
    }
   ],
   "source": [
    "#評価関数RMSEの定義（rmseはscikit-learnにないから代わりに平方根を取る前のmseを使う）\n",
    "import numpy as np\n",
    "from sklearn.metrics import mean_squared_error as MSE\n",
    "#変数の準備\n",
    "actual = [3,4,6,2,4,6,1]\n",
    "pred = [4,2,6,5,3,2,3]\n",
    "#MSEの算出\n",
    "mse = MSE(actual,pred)\n",
    "print(mse)\n",
    "#RMSEの算出\n",
    "rmse = np.sqrt(mse)\n",
    "print(rmse)"
   ]
  },
  {
   "cell_type": "code",
   "execution_count": 38,
   "id": "34083e31",
   "metadata": {},
   "outputs": [
    {
     "data": {
      "text/plain": [
       "LinearRegression()"
      ]
     },
     "execution_count": 38,
     "metadata": {},
     "output_type": "execute_result"
    }
   ],
   "source": [
    "#重回帰モデルの学習\n",
    "#インポート\n",
    "from sklearn.linear_model import LinearRegression\n",
    "#モデルの準備\n",
    "lr = LinearRegression()\n",
    "#モデルの学習\n",
    "lr.fit(X_train, y_train)"
   ]
  },
  {
   "cell_type": "code",
   "execution_count": 39,
   "id": "623e6030",
   "metadata": {},
   "outputs": [
    {
     "name": "stdout",
     "output_type": "stream",
     "text": [
      "                                 0\n",
      "accommodates             22.121822\n",
      "bathrooms                80.617854\n",
      "cleaning_fee            -32.374194\n",
      "room_type_Private room  -74.858945\n",
      "room_type_Shared room  -124.198173\n",
      "bed_type_Couch           22.939800\n",
      "bed_type_Futon          -20.252176\n",
      "bed_type_Pull-out Sofa  -19.094196\n",
      "bed_type_Real Bed       -19.899770\n",
      "68.07921636252635\n"
     ]
    }
   ],
   "source": [
    "#偏回帰係数の表示\n",
    "print(pd.DataFrame(lr.coef_, index = X_train.columns))\n",
    "#切片の表示\n",
    "print(lr.intercept_)"
   ]
  },
  {
   "cell_type": "code",
   "execution_count": 40,
   "id": "31b5b60a",
   "metadata": {},
   "outputs": [
    {
     "name": "stdout",
     "output_type": "stream",
     "text": [
      "[140.66675132  65.807806   398.25918148 ... 184.91039534  87.92962801\n",
      "  65.807806  ]\n"
     ]
    }
   ],
   "source": [
    "#学習済みモデルによる予測（学習データ）\n",
    "y_pred_train = lr.predict(X_train)\n",
    "#予測結果の確認\n",
    "print(y_pred_train)\n",
    "chk = int(round(y_pred_train[1]))"
   ]
  },
  {
   "cell_type": "code",
   "execution_count": 41,
   "id": "2ecf3788",
   "metadata": {},
   "outputs": [
    {
     "name": "stdout",
     "output_type": "stream",
     "text": [
      "132.01922691940868\n"
     ]
    }
   ],
   "source": [
    "#予測精度の評価（学習データ）\n",
    "#RMSEを求め、rmse_trainに代入\n",
    "mse = MSE(y_train, y_pred_train)\n",
    "rmse_train = np.sqrt(mse)\n",
    "print(rmse_train)"
   ]
  },
  {
   "cell_type": "code",
   "execution_count": 42,
   "id": "2462babd",
   "metadata": {},
   "outputs": [
    {
     "name": "stdout",
     "output_type": "stream",
     "text": [
      "[ 88.79929292 184.91039534  65.807806   ... 204.81016489  65.807806\n",
      " 184.91039534]\n"
     ]
    }
   ],
   "source": [
    "#学習済みモデルによる予測（評価データ）\n",
    "#X_testに対する予測値を算出\n",
    "y_pred_test = lr.predict(X_test)\n",
    "#予測結果の確認\n",
    "print(y_pred_test)\n",
    "chk = int(round(y_pred_test[1]))"
   ]
  },
  {
   "cell_type": "code",
   "execution_count": 43,
   "id": "65f0be83",
   "metadata": {},
   "outputs": [
    {
     "name": "stdout",
     "output_type": "stream",
     "text": [
      "138.94414908377433\n"
     ]
    }
   ],
   "source": [
    "#予測精度の評価（評価データ）\n",
    "#RMSEを求め、rmse_testに代入\n",
    "mse = MSE(y_test, y_pred_test)\n",
    "rmse_test = np.sqrt(mse)\n"
   ]
  },
  {
   "cell_type": "code",
   "execution_count": 44,
   "id": "24a10c1d",
   "metadata": {},
   "outputs": [
    {
     "data": {
      "text/html": [
       "<div>\n",
       "<style scoped>\n",
       "    .dataframe tbody tr th:only-of-type {\n",
       "        vertical-align: middle;\n",
       "    }\n",
       "\n",
       "    .dataframe tbody tr th {\n",
       "        vertical-align: top;\n",
       "    }\n",
       "\n",
       "    .dataframe thead th {\n",
       "        text-align: right;\n",
       "    }\n",
       "</style>\n",
       "<table border=\"1\" class=\"dataframe\">\n",
       "  <thead>\n",
       "    <tr style=\"text-align: right;\">\n",
       "      <th></th>\n",
       "      <th>id</th>\n",
       "    </tr>\n",
       "  </thead>\n",
       "  <tbody>\n",
       "    <tr>\n",
       "      <th>0</th>\n",
       "      <td>0</td>\n",
       "    </tr>\n",
       "    <tr>\n",
       "      <th>1</th>\n",
       "      <td>1</td>\n",
       "    </tr>\n",
       "    <tr>\n",
       "      <th>2</th>\n",
       "      <td>2</td>\n",
       "    </tr>\n",
       "    <tr>\n",
       "      <th>3</th>\n",
       "      <td>3</td>\n",
       "    </tr>\n",
       "    <tr>\n",
       "      <th>4</th>\n",
       "      <td>4</td>\n",
       "    </tr>\n",
       "    <tr>\n",
       "      <th>...</th>\n",
       "      <td>...</td>\n",
       "    </tr>\n",
       "    <tr>\n",
       "      <th>18523</th>\n",
       "      <td>18523</td>\n",
       "    </tr>\n",
       "    <tr>\n",
       "      <th>18524</th>\n",
       "      <td>18524</td>\n",
       "    </tr>\n",
       "    <tr>\n",
       "      <th>18525</th>\n",
       "      <td>18525</td>\n",
       "    </tr>\n",
       "    <tr>\n",
       "      <th>18526</th>\n",
       "      <td>18526</td>\n",
       "    </tr>\n",
       "    <tr>\n",
       "      <th>18527</th>\n",
       "      <td>18527</td>\n",
       "    </tr>\n",
       "  </tbody>\n",
       "</table>\n",
       "<p>18528 rows × 1 columns</p>\n",
       "</div>"
      ],
      "text/plain": [
       "          id\n",
       "0          0\n",
       "1          1\n",
       "2          2\n",
       "3          3\n",
       "4          4\n",
       "...      ...\n",
       "18523  18523\n",
       "18524  18524\n",
       "18525  18525\n",
       "18526  18526\n",
       "18527  18527\n",
       "\n",
       "[18528 rows x 1 columns]"
      ]
     },
     "execution_count": 44,
     "metadata": {},
     "output_type": "execute_result"
    }
   ],
   "source": [
    "Submit = test.loc[:,['id']]\n",
    "Submit"
   ]
  },
  {
   "cell_type": "code",
   "execution_count": 46,
   "id": "c9d04563",
   "metadata": {},
   "outputs": [
    {
     "data": {
      "text/html": [
       "<div>\n",
       "<style scoped>\n",
       "    .dataframe tbody tr th:only-of-type {\n",
       "        vertical-align: middle;\n",
       "    }\n",
       "\n",
       "    .dataframe tbody tr th {\n",
       "        vertical-align: top;\n",
       "    }\n",
       "\n",
       "    .dataframe thead th {\n",
       "        text-align: right;\n",
       "    }\n",
       "</style>\n",
       "<table border=\"1\" class=\"dataframe\">\n",
       "  <thead>\n",
       "    <tr style=\"text-align: right;\">\n",
       "      <th></th>\n",
       "      <th>id</th>\n",
       "      <th>y</th>\n",
       "    </tr>\n",
       "  </thead>\n",
       "  <tbody>\n",
       "    <tr>\n",
       "      <th>0</th>\n",
       "      <td>0</td>\n",
       "      <td>138.944149</td>\n",
       "    </tr>\n",
       "    <tr>\n",
       "      <th>1</th>\n",
       "      <td>1</td>\n",
       "      <td>138.944149</td>\n",
       "    </tr>\n",
       "    <tr>\n",
       "      <th>2</th>\n",
       "      <td>2</td>\n",
       "      <td>138.944149</td>\n",
       "    </tr>\n",
       "    <tr>\n",
       "      <th>3</th>\n",
       "      <td>3</td>\n",
       "      <td>138.944149</td>\n",
       "    </tr>\n",
       "    <tr>\n",
       "      <th>4</th>\n",
       "      <td>4</td>\n",
       "      <td>138.944149</td>\n",
       "    </tr>\n",
       "    <tr>\n",
       "      <th>...</th>\n",
       "      <td>...</td>\n",
       "      <td>...</td>\n",
       "    </tr>\n",
       "    <tr>\n",
       "      <th>18523</th>\n",
       "      <td>18523</td>\n",
       "      <td>138.944149</td>\n",
       "    </tr>\n",
       "    <tr>\n",
       "      <th>18524</th>\n",
       "      <td>18524</td>\n",
       "      <td>138.944149</td>\n",
       "    </tr>\n",
       "    <tr>\n",
       "      <th>18525</th>\n",
       "      <td>18525</td>\n",
       "      <td>138.944149</td>\n",
       "    </tr>\n",
       "    <tr>\n",
       "      <th>18526</th>\n",
       "      <td>18526</td>\n",
       "      <td>138.944149</td>\n",
       "    </tr>\n",
       "    <tr>\n",
       "      <th>18527</th>\n",
       "      <td>18527</td>\n",
       "      <td>138.944149</td>\n",
       "    </tr>\n",
       "  </tbody>\n",
       "</table>\n",
       "<p>18528 rows × 2 columns</p>\n",
       "</div>"
      ],
      "text/plain": [
       "          id           y\n",
       "0          0  138.944149\n",
       "1          1  138.944149\n",
       "2          2  138.944149\n",
       "3          3  138.944149\n",
       "4          4  138.944149\n",
       "...      ...         ...\n",
       "18523  18523  138.944149\n",
       "18524  18524  138.944149\n",
       "18525  18525  138.944149\n",
       "18526  18526  138.944149\n",
       "18527  18527  138.944149\n",
       "\n",
       "[18528 rows x 2 columns]"
      ]
     },
     "execution_count": 46,
     "metadata": {},
     "output_type": "execute_result"
    }
   ],
   "source": [
    "Submit['y'] = rmse_test\n",
    "Submit"
   ]
  },
  {
   "cell_type": "code",
   "execution_count": 90,
   "id": "f4586292",
   "metadata": {},
   "outputs": [],
   "source": [
    "Submit.to_csv('/Users/mutouyuuten/SIGNATEコンペ/submit_2.csv', header=None,index=None)"
   ]
  },
  {
   "cell_type": "code",
   "execution_count": 91,
   "id": "20e99de1",
   "metadata": {},
   "outputs": [
    {
     "name": "stdout",
     "output_type": "stream",
     "text": [
      "/Users/mutouyuuten/SIGNATEコンペ\r\n"
     ]
    }
   ],
   "source": [
    "!pwd"
   ]
  },
  {
   "cell_type": "code",
   "execution_count": null,
   "id": "a89094fb",
   "metadata": {},
   "outputs": [],
   "source": []
  }
 ],
 "metadata": {
  "kernelspec": {
   "display_name": "Python 3 (ipykernel)",
   "language": "python",
   "name": "python3"
  },
  "language_info": {
   "codemirror_mode": {
    "name": "ipython",
    "version": 3
   },
   "file_extension": ".py",
   "mimetype": "text/x-python",
   "name": "python",
   "nbconvert_exporter": "python",
   "pygments_lexer": "ipython3",
   "version": "3.9.7"
  }
 },
 "nbformat": 4,
 "nbformat_minor": 5
}
