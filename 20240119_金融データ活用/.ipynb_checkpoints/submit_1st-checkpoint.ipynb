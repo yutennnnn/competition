{
 "cells": [
  {
   "cell_type": "markdown",
   "id": "e1d98772-6e50-4f2b-8b10-bf9c85bd1aa8",
   "metadata": {},
   "source": [
    "# Import"
   ]
  },
  {
   "cell_type": "code",
   "execution_count": 1,
   "id": "53100630-723d-4b95-be64-a84793f0aa3a",
   "metadata": {},
   "outputs": [],
   "source": [
    "# ライブラリ\n",
    "import pandas as pd\n",
    "import numpy as np\n",
    "import matplotlib.pyplot as plt\n",
    "import japanize_matplotlib\n",
    "import seaborn as sns\n",
    "from sklearn.model_selection import train_test_split\n",
    "from sklearn.metrics import f1_score\n",
    "from sklearn.linear_model import LogisticRegression\n",
    "from sklearn.metrics import confusion_matrix"
   ]
  },
  {
   "cell_type": "code",
   "execution_count": null,
   "id": "6c01810e-fdfc-4b96-88d2-34ddd8351ece",
   "metadata": {},
   "outputs": [],
   "source": []
  },
  {
   "cell_type": "markdown",
   "id": "82583083-f546-4a05-9cba-a64f8248868f",
   "metadata": {},
   "source": [
    "# 読み込み"
   ]
  },
  {
   "cell_type": "code",
   "execution_count": 2,
   "id": "9b7693db-95a8-44fc-a284-725eb4d822ce",
   "metadata": {},
   "outputs": [],
   "source": [
    "train = pd.read_csv('./train.csv')\n",
    "test = pd.read_csv('./test.csv')\n",
    "submission = pd.read_csv('./sample_submission.csv', header=None)"
   ]
  },
  {
   "cell_type": "code",
   "execution_count": 3,
   "id": "87a032c2-d1c4-4b1d-b3fa-3b11f07869a9",
   "metadata": {},
   "outputs": [
    {
     "name": "stdout",
     "output_type": "stream",
     "text": [
      "(42307, 21)\n",
      "(42308, 20)\n",
      "(42308, 2)\n"
     ]
    }
   ],
   "source": [
    "print(train.shape)\n",
    "print(test.shape)\n",
    "print(submission.shape)"
   ]
  },
  {
   "cell_type": "code",
   "execution_count": 4,
   "id": "d60522c2-70a2-4292-a7ab-4cba5a482eb7",
   "metadata": {
    "tags": []
   },
   "outputs": [
    {
     "data": {
      "text/plain": [
       "['Unnamed: 0',\n",
       " 'Term',\n",
       " 'NoEmp',\n",
       " 'NewExist',\n",
       " 'CreateJob',\n",
       " 'RetainedJob',\n",
       " 'FranchiseCode',\n",
       " 'RevLineCr',\n",
       " 'LowDoc',\n",
       " 'DisbursementDate',\n",
       " 'MIS_Status',\n",
       " 'Sector',\n",
       " 'ApprovalDate',\n",
       " 'ApprovalFY',\n",
       " 'City',\n",
       " 'State',\n",
       " 'BankState',\n",
       " 'DisbursementGross',\n",
       " 'GrAppv',\n",
       " 'SBA_Appv',\n",
       " 'UrbanRural']"
      ]
     },
     "execution_count": 4,
     "metadata": {},
     "output_type": "execute_result"
    }
   ],
   "source": [
    "list(train.columns)"
   ]
  },
  {
   "cell_type": "code",
   "execution_count": 6,
   "id": "b879789e-e47b-4e76-83fa-fb34a29b00b1",
   "metadata": {
    "collapsed": true,
    "jupyter": {
     "outputs_hidden": true
    },
    "tags": []
   },
   "outputs": [
    {
     "data": {
      "text/plain": [
       "Unnamed: 0              0\n",
       "Term                    0\n",
       "NoEmp                   0\n",
       "NewExist                0\n",
       "CreateJob               0\n",
       "RetainedJob             0\n",
       "FranchiseCode           0\n",
       "RevLineCr            1079\n",
       "LowDoc                531\n",
       "DisbursementDate      150\n",
       "MIS_Status              0\n",
       "Sector                  0\n",
       "ApprovalDate            0\n",
       "ApprovalFY              0\n",
       "City                    0\n",
       "State                   0\n",
       "BankState              11\n",
       "DisbursementGross       0\n",
       "GrAppv                  0\n",
       "SBA_Appv                0\n",
       "UrbanRural              0\n",
       "dtype: int64"
      ]
     },
     "execution_count": 6,
     "metadata": {},
     "output_type": "execute_result"
    }
   ],
   "source": [
    "# 全数4万件のうち千件ほどなので素直に削除してもいいかも\n",
    "train.isnull().sum()"
   ]
  },
  {
   "cell_type": "code",
   "execution_count": 7,
   "id": "504c13a2-73e6-42c3-924a-a25a0089d5ce",
   "metadata": {},
   "outputs": [],
   "source": [
    "# # 削除前の行数\n",
    "# print(train.shape[0])\n",
    "# # 欠損値削除\n",
    "# train = train.dropna()\n",
    "# train = train.fillna('NULL', inplace=True)\n",
    "# # 削除後の行数\n",
    "# print(train.shape[0])"
   ]
  },
  {
   "cell_type": "code",
   "execution_count": 8,
   "id": "1737d36d-c26b-4161-b523-712c2340c2a6",
   "metadata": {},
   "outputs": [
    {
     "data": {
      "text/plain": [
       "1    37767\n",
       "0     4540\n",
       "Name: MIS_Status, dtype: int64"
      ]
     },
     "execution_count": 8,
     "metadata": {},
     "output_type": "execute_result"
    }
   ],
   "source": [
    "# 目的変数\n",
    "# ローン状況（0=債務不履行、1=完済）\n",
    "train['MIS_Status'].value_counts()"
   ]
  },
  {
   "cell_type": "code",
   "execution_count": null,
   "id": "071477d0-0382-4631-abc7-83c94eb95ba4",
   "metadata": {},
   "outputs": [],
   "source": []
  },
  {
   "cell_type": "markdown",
   "id": "42218d05-75fc-4d2d-a8fe-c85fbe7ce0d9",
   "metadata": {},
   "source": [
    "# EDA"
   ]
  },
  {
   "cell_type": "code",
   "execution_count": 12,
   "id": "c84567fd-474d-4813-ac5b-42e885d696f1",
   "metadata": {},
   "outputs": [
    {
     "name": "stdout",
     "output_type": "stream",
     "text": [
      "-----質的データ-----\n"
     ]
    },
    {
     "data": {
      "text/html": [
       "<div>\n",
       "<style scoped>\n",
       "    .dataframe tbody tr th:only-of-type {\n",
       "        vertical-align: middle;\n",
       "    }\n",
       "\n",
       "    .dataframe tbody tr th {\n",
       "        vertical-align: top;\n",
       "    }\n",
       "\n",
       "    .dataframe thead th {\n",
       "        text-align: right;\n",
       "    }\n",
       "</style>\n",
       "<table border=\"1\" class=\"dataframe\">\n",
       "  <thead>\n",
       "    <tr style=\"text-align: right;\">\n",
       "      <th></th>\n",
       "      <th>Unnamed: 0</th>\n",
       "      <th>Term</th>\n",
       "      <th>NoEmp</th>\n",
       "      <th>NewExist</th>\n",
       "      <th>CreateJob</th>\n",
       "      <th>RetainedJob</th>\n",
       "      <th>FranchiseCode</th>\n",
       "      <th>MIS_Status</th>\n",
       "      <th>Sector</th>\n",
       "      <th>ApprovalFY</th>\n",
       "      <th>UrbanRural</th>\n",
       "    </tr>\n",
       "  </thead>\n",
       "  <tbody>\n",
       "    <tr>\n",
       "      <th>count</th>\n",
       "      <td>42307.000000</td>\n",
       "      <td>42307.000000</td>\n",
       "      <td>42307.000000</td>\n",
       "      <td>42307.000000</td>\n",
       "      <td>42307.000000</td>\n",
       "      <td>42307.000000</td>\n",
       "      <td>42307.000000</td>\n",
       "      <td>42307.000000</td>\n",
       "      <td>42307.000000</td>\n",
       "      <td>42307.000000</td>\n",
       "      <td>42307.000000</td>\n",
       "    </tr>\n",
       "    <tr>\n",
       "      <th>mean</th>\n",
       "      <td>21153.000000</td>\n",
       "      <td>108.601673</td>\n",
       "      <td>9.704304</td>\n",
       "      <td>1.210414</td>\n",
       "      <td>2.183728</td>\n",
       "      <td>3.478148</td>\n",
       "      <td>1955.056019</td>\n",
       "      <td>0.892689</td>\n",
       "      <td>32.933439</td>\n",
       "      <td>2001.537783</td>\n",
       "      <td>0.585742</td>\n",
       "    </tr>\n",
       "    <tr>\n",
       "      <th>std</th>\n",
       "      <td>12213.123256</td>\n",
       "      <td>84.569847</td>\n",
       "      <td>17.488022</td>\n",
       "      <td>0.407608</td>\n",
       "      <td>5.093980</td>\n",
       "      <td>8.113648</td>\n",
       "      <td>10541.388765</td>\n",
       "      <td>0.309512</td>\n",
       "      <td>22.291386</td>\n",
       "      <td>5.860527</td>\n",
       "      <td>0.741929</td>\n",
       "    </tr>\n",
       "    <tr>\n",
       "      <th>min</th>\n",
       "      <td>0.000000</td>\n",
       "      <td>0.000000</td>\n",
       "      <td>0.000000</td>\n",
       "      <td>1.000000</td>\n",
       "      <td>0.000000</td>\n",
       "      <td>0.000000</td>\n",
       "      <td>0.000000</td>\n",
       "      <td>0.000000</td>\n",
       "      <td>0.000000</td>\n",
       "      <td>1974.000000</td>\n",
       "      <td>0.000000</td>\n",
       "    </tr>\n",
       "    <tr>\n",
       "      <th>25%</th>\n",
       "      <td>10576.500000</td>\n",
       "      <td>56.000000</td>\n",
       "      <td>2.000000</td>\n",
       "      <td>1.000000</td>\n",
       "      <td>0.000000</td>\n",
       "      <td>0.000000</td>\n",
       "      <td>0.000000</td>\n",
       "      <td>1.000000</td>\n",
       "      <td>22.000000</td>\n",
       "      <td>1997.000000</td>\n",
       "      <td>0.000000</td>\n",
       "    </tr>\n",
       "    <tr>\n",
       "      <th>50%</th>\n",
       "      <td>21153.000000</td>\n",
       "      <td>82.000000</td>\n",
       "      <td>4.000000</td>\n",
       "      <td>1.000000</td>\n",
       "      <td>0.000000</td>\n",
       "      <td>0.000000</td>\n",
       "      <td>0.000000</td>\n",
       "      <td>1.000000</td>\n",
       "      <td>33.000000</td>\n",
       "      <td>2003.000000</td>\n",
       "      <td>0.000000</td>\n",
       "    </tr>\n",
       "    <tr>\n",
       "      <th>75%</th>\n",
       "      <td>31729.500000</td>\n",
       "      <td>168.000000</td>\n",
       "      <td>12.000000</td>\n",
       "      <td>1.000000</td>\n",
       "      <td>2.000000</td>\n",
       "      <td>3.000000</td>\n",
       "      <td>1.000000</td>\n",
       "      <td>1.000000</td>\n",
       "      <td>44.000000</td>\n",
       "      <td>2006.000000</td>\n",
       "      <td>1.000000</td>\n",
       "    </tr>\n",
       "    <tr>\n",
       "      <th>max</th>\n",
       "      <td>42306.000000</td>\n",
       "      <td>360.000000</td>\n",
       "      <td>202.000000</td>\n",
       "      <td>2.000000</td>\n",
       "      <td>70.000000</td>\n",
       "      <td>140.000000</td>\n",
       "      <td>90709.000000</td>\n",
       "      <td>1.000000</td>\n",
       "      <td>81.000000</td>\n",
       "      <td>2014.000000</td>\n",
       "      <td>2.000000</td>\n",
       "    </tr>\n",
       "  </tbody>\n",
       "</table>\n",
       "</div>"
      ],
      "text/plain": [
       "         Unnamed: 0          Term         NoEmp      NewExist     CreateJob  \\\n",
       "count  42307.000000  42307.000000  42307.000000  42307.000000  42307.000000   \n",
       "mean   21153.000000    108.601673      9.704304      1.210414      2.183728   \n",
       "std    12213.123256     84.569847     17.488022      0.407608      5.093980   \n",
       "min        0.000000      0.000000      0.000000      1.000000      0.000000   \n",
       "25%    10576.500000     56.000000      2.000000      1.000000      0.000000   \n",
       "50%    21153.000000     82.000000      4.000000      1.000000      0.000000   \n",
       "75%    31729.500000    168.000000     12.000000      1.000000      2.000000   \n",
       "max    42306.000000    360.000000    202.000000      2.000000     70.000000   \n",
       "\n",
       "        RetainedJob  FranchiseCode    MIS_Status        Sector    ApprovalFY  \\\n",
       "count  42307.000000   42307.000000  42307.000000  42307.000000  42307.000000   \n",
       "mean       3.478148    1955.056019      0.892689     32.933439   2001.537783   \n",
       "std        8.113648   10541.388765      0.309512     22.291386      5.860527   \n",
       "min        0.000000       0.000000      0.000000      0.000000   1974.000000   \n",
       "25%        0.000000       0.000000      1.000000     22.000000   1997.000000   \n",
       "50%        0.000000       0.000000      1.000000     33.000000   2003.000000   \n",
       "75%        3.000000       1.000000      1.000000     44.000000   2006.000000   \n",
       "max      140.000000   90709.000000      1.000000     81.000000   2014.000000   \n",
       "\n",
       "         UrbanRural  \n",
       "count  42307.000000  \n",
       "mean       0.585742  \n",
       "std        0.741929  \n",
       "min        0.000000  \n",
       "25%        0.000000  \n",
       "50%        0.000000  \n",
       "75%        1.000000  \n",
       "max        2.000000  "
      ]
     },
     "execution_count": 12,
     "metadata": {},
     "output_type": "execute_result"
    }
   ],
   "source": [
    "print('-----質的データ-----')\n",
    "train.describe()"
   ]
  },
  {
   "cell_type": "code",
   "execution_count": 15,
   "id": "9019758e-ade6-4ff5-ba9d-63d710743892",
   "metadata": {},
   "outputs": [],
   "source": [
    "# print('-----量的データ-----')\n",
    "# train.describe(include=['0'])"
   ]
  },
  {
   "cell_type": "code",
   "execution_count": 19,
   "id": "4d8939d4-2d90-4b3d-889c-4326e535f5ab",
   "metadata": {},
   "outputs": [
    {
     "name": "stdout",
     "output_type": "stream",
     "text": [
      "<class 'pandas.core.frame.DataFrame'>\n",
      "RangeIndex: 42307 entries, 0 to 42306\n",
      "Data columns (total 21 columns):\n",
      " #   Column             Non-Null Count  Dtype  \n",
      "---  ------             --------------  -----  \n",
      " 0   Unnamed: 0         42307 non-null  int64  \n",
      " 1   Term               42307 non-null  int64  \n",
      " 2   NoEmp              42307 non-null  int64  \n",
      " 3   NewExist           42307 non-null  float64\n",
      " 4   CreateJob          42307 non-null  int64  \n",
      " 5   RetainedJob        42307 non-null  int64  \n",
      " 6   FranchiseCode      42307 non-null  int64  \n",
      " 7   RevLineCr          41228 non-null  object \n",
      " 8   LowDoc             41776 non-null  object \n",
      " 9   DisbursementDate   42157 non-null  object \n",
      " 10  MIS_Status         42307 non-null  int64  \n",
      " 11  Sector             42307 non-null  int64  \n",
      " 12  ApprovalDate       42307 non-null  object \n",
      " 13  ApprovalFY         42307 non-null  int64  \n",
      " 14  City               42307 non-null  object \n",
      " 15  State              42307 non-null  object \n",
      " 16  BankState          42296 non-null  object \n",
      " 17  DisbursementGross  42307 non-null  object \n",
      " 18  GrAppv             42307 non-null  object \n",
      " 19  SBA_Appv           42307 non-null  object \n",
      " 20  UrbanRural         42307 non-null  int64  \n",
      "dtypes: float64(1), int64(10), object(10)\n",
      "memory usage: 6.8+ MB\n"
     ]
    }
   ],
   "source": [
    "train.info()"
   ]
  },
  {
   "cell_type": "code",
   "execution_count": 25,
   "id": "93b682e5-55f2-418e-bcce-416888b594f3",
   "metadata": {},
   "outputs": [
    {
     "data": {
      "text/plain": [
       "<AxesSubplot:title={'center':'term by month'}, ylabel='Frequency'>"
      ]
     },
     "execution_count": 25,
     "metadata": {},
     "output_type": "execute_result"
    },
    {
     "data": {
      "image/png": "[encoded data removed]",
      "text/plain": [
       "<Figure size 432x288 with 1 Axes>"
      ]
     },
     "metadata": {
      "needs_background": "light"
     },
     "output_type": "display_data"
    }
   ],
   "source": [
    "# 融資期間（月）\n",
    "train['Term'].plot.hist(title='term by month')"
   ]
  },
  {
   "cell_type": "code",
   "execution_count": 24,
   "id": "5e813572-8631-4e26-bf2f-ee0416e3d1ca",
   "metadata": {},
   "outputs": [
    {
     "data": {
      "text/plain": [
       "<AxesSubplot:title={'center':'支払金額'}, ylabel='Frequency'>"
      ]
     },
     "execution_count": 24,
     "metadata": {},
     "output_type": "execute_result"
    },
    {
     "data": {
      "image/png": "[encoded data removed]",
      "text/plain": [
       "<Figure size 432x288 with 1 Axes>"
      ]
     },
     "metadata": {
      "needs_background": "light"
     },
     "output_type": "display_data"
    }
   ],
   "source": [
    "# 銀行から支払われた金額\n",
    "train['DisbursementGross'].value_counts().plot.hist(title='支払金額')"
   ]
  },
  {
   "cell_type": "code",
   "execution_count": 26,
   "id": "91b09c40-ca6f-474e-8bc5-1c7301818828",
   "metadata": {},
   "outputs": [
    {
     "data": {
      "text/plain": [
       "<AxesSubplot:title={'center':'融資総額'}, ylabel='Frequency'>"
      ]
     },
     "execution_count": 26,
     "metadata": {},
     "output_type": "execute_result"
    },
    {
     "data": {
      "image/png": "[encoded data removed]",
      "text/plain": [
       "<Figure size 432x288 with 1 Axes>"
      ]
     },
     "metadata": {
      "needs_background": "light"
     },
     "output_type": "display_data"
    }
   ],
   "source": [
    "# 銀行から承認されたローン総額\n",
    "train['GrAppv'].value_counts().plot.hist(title='ローン総額')"
   ]
  },
  {
   "cell_type": "code",
   "execution_count": 31,
   "id": "7c101249-eacc-4f81-811b-345b3fcd4b78",
   "metadata": {},
   "outputs": [
    {
     "data": {
      "text/plain": [
       "<AxesSubplot:title={'center':'SBA保証金額'}, ylabel='Frequency'>"
      ]
     },
     "execution_count": 31,
     "metadata": {},
     "output_type": "execute_result"
    },
    {
     "data": {
      "image/png": "[encoded data removed]",
      "text/plain": [
       "<Figure size 432x288 with 1 Axes>"
      ]
     },
     "metadata": {
      "needs_background": "light"
     },
     "output_type": "display_data"
    }
   ],
   "source": [
    "# SBA（アメリカ中小企業庁）が保証する承認されたローン金額\n",
    "train['SBA_Appv'].value_counts().plot.hist(title='SBA保証金額')"
   ]
  },
  {
   "cell_type": "code",
   "execution_count": 29,
   "id": "c9416c46-de17-40e7-ab63-20bfd793a75d",
   "metadata": {},
   "outputs": [
    {
     "data": {
      "image/png": "[encoded data removed]",
      "text/plain": [
       "<Figure size 432x288 with 1 Axes>"
      ]
     },
     "metadata": {
      "needs_background": "light"
     },
     "output_type": "display_data"
    }
   ],
   "source": [
    "# 目的変数\n",
    "train['MIS_Status'].value_counts().plot.bar(title='ローン状態')\n",
    "plt.xlabel('loan_status')\n",
    "plt.ylabel('count')\n",
    "plt.show()"
   ]
  },
  {
   "cell_type": "code",
   "execution_count": 30,
   "id": "2bdb826d-c957-4b0d-ae85-f4043972a110",
   "metadata": {},
   "outputs": [
    {
     "data": {
      "text/plain": [
       "<AxesSubplot:>"
      ]
     },
     "execution_count": 30,
     "metadata": {},
     "output_type": "execute_result"
    },
    {
     "data": {
      "image/png": "[encoded data removed]",
      "text/plain": [
       "<Figure size 720x576 with 2 Axes>"
      ]
     },
     "metadata": {
      "needs_background": "light"
     },
     "output_type": "display_data"
    }
   ],
   "source": [
    "# グラフ整形\n",
    "plt.figure(figsize=(10, 8))\n",
    "\n",
    "# ヒートマップ\n",
    "sns.heatmap(train.corr(), vmin=-1.0, vmax=1.0, annot=True,\n",
    "           cmap='coolwarm', linewidths=0.1)"
   ]
  },
  {
   "cell_type": "markdown",
   "id": "df718999-e3d5-449b-b747-acecdfa080ce",
   "metadata": {},
   "source": [
    "# 仮説立て＆検証"
   ]
  },
  {
   "cell_type": "markdown",
   "id": "92a75041-7f10-4a15-8059-90192fe9fd82",
   "metadata": {},
   "source": [
    "【仮説】  \n",
    "①ローン総額（GrAppv）が多いほど貸し倒れやすいのでは？  \n",
    "②融資期間（Term）が長いほど貸し倒れやすいのでは？  \n",
    "③リボルビング信用枠（RevLineCr）であれば貸し倒れやすいのでは？  \n",
    "④SBA保証額（SBA_Appv）が少ないほど貸し倒れやすいのでは？  "
   ]
  },
  {
   "cell_type": "code",
   "execution_count": 32,
   "id": "52ee69f5-e6a8-409b-a389-1aa8d0ca18a0",
   "metadata": {},
   "outputs": [
    {
     "data": {
      "image/png": "[encoded data removed]",
      "text/plain": [
       "<Figure size 432x288 with 1 Axes>"
      ]
     },
     "metadata": {
      "needs_background": "light"
     },
     "output_type": "display_data"
    }
   ],
   "source": [
    "# ①の検証\n",
    "sns.boxplot(data=train, x='MIS_Status', y='GrAppv')\n",
    "plt.title('mis_status vs grappv')\n",
    "plt.xlabel('mis_status')\n",
    "plt.ylabel('grappv')\n",
    "plt.show()"
   ]
  },
  {
   "cell_type": "code",
   "execution_count": 33,
   "id": "f06b0bbf-01c0-4605-88ed-52ca5dcbc77e",
   "metadata": {},
   "outputs": [
    {
     "data": {
      "image/png": "[encoded data removed]",
      "text/plain": [
       "<Figure size 432x288 with 1 Axes>"
      ]
     },
     "metadata": {
      "needs_background": "light"
     },
     "output_type": "display_data"
    }
   ],
   "source": [
    "# ②の検証\n",
    "sns.boxplot(data=train, x='MIS_Status', y='Term')\n",
    "plt.title('mis_status vs term')\n",
    "plt.xlabel('mis_status')\n",
    "plt.ylabel('term')\n",
    "plt.show()"
   ]
  },
  {
   "cell_type": "code",
   "execution_count": 37,
   "id": "a930b517-2dd1-4bdb-931d-ff9d26041b49",
   "metadata": {},
   "outputs": [],
   "source": [
    "# # ②の検証（クロス集計）\n",
    "# cross_term = pd.crosstab(train['Term'], train['MIS_Status'], margins=True)\n",
    "\n",
    "# c_rate = cross_term['0'] / cross_term['All']\n",
    "# f_rate = cross_term['1'] / cross_term['All']\n",
    "# cross_term['c_rate'] = c_rate\n",
    "# cross_term['f_rate'] = f_rate\n",
    "# cross_term"
   ]
  },
  {
   "cell_type": "code",
   "execution_count": 38,
   "id": "f6117bb1-578f-4c2c-a2dd-f31f19bf566a",
   "metadata": {},
   "outputs": [
    {
     "data": {
      "image/png": "[encoded data removed]",
      "text/plain": [
       "<Figure size 432x288 with 1 Axes>"
      ]
     },
     "metadata": {
      "needs_background": "light"
     },
     "output_type": "display_data"
    }
   ],
   "source": [
    "# ③の検証\n",
    "sns.boxplot(data=train, x='MIS_Status', y='RevLineCr')\n",
    "plt.title('mis_status vs revlinecr')\n",
    "plt.xlabel('mis_status')\n",
    "plt.ylabel('revlinecr')\n",
    "plt.show()"
   ]
  },
  {
   "cell_type": "code",
   "execution_count": 39,
   "id": "90a97469-66f9-4420-aba2-494cd69e3020",
   "metadata": {},
   "outputs": [
    {
     "data": {
      "image/png": "[encoded data removed]",
      "text/plain": [
       "<Figure size 432x288 with 1 Axes>"
      ]
     },
     "metadata": {
      "needs_background": "light"
     },
     "output_type": "display_data"
    }
   ],
   "source": [
    "# ④の検証\n",
    "sns.boxplot(data=train, x='MIS_Status', y='SBA_Appv')\n",
    "plt.title('mis_status vs sba_appv')\n",
    "plt.xlabel('mis_status')\n",
    "plt.ylabel('sba_appv')\n",
    "plt.show()"
   ]
  },
  {
   "cell_type": "code",
   "execution_count": 40,
   "id": "4319b8a5-f78a-4c45-ab78-f917e48b6e1f",
   "metadata": {},
   "outputs": [
    {
     "data": {
      "image/png": "[encoded data removed]",
      "text/plain": [
       "<Figure size 432x288 with 1 Axes>"
      ]
     },
     "metadata": {
      "needs_background": "light"
     },
     "output_type": "display_data"
    }
   ],
   "source": [
    "# ⑤融資を受ける前の従業員数が少ないほど貸し倒れやすいのでは？\n",
    "sns.boxplot(data=train, x='MIS_Status', y='NoEmp')\n",
    "plt.title('mis_status vs noemp')\n",
    "plt.xlabel('mis_status')\n",
    "plt.ylabel('noemp')\n",
    "plt.show()"
   ]
  },
  {
   "cell_type": "code",
   "execution_count": 42,
   "id": "4d904221-43f1-4c38-988c-c2a9e45e515d",
   "metadata": {},
   "outputs": [
    {
     "data": {
      "image/png": "[encoded data removed]",
      "text/plain": [
       "<Figure size 432x288 with 1 Axes>"
      ]
     },
     "metadata": {
      "needs_background": "light"
     },
     "output_type": "display_data"
    }
   ],
   "source": [
    "# ⑥既存より新規ビジネスのほうが貸し倒れやすいのでは？\n",
    "sns.boxplot(data=train, x='MIS_Status', y='NewExist')\n",
    "plt.title('mis_status vs newexist')\n",
    "plt.xlabel('mis_status')\n",
    "plt.ylabel('newexist')\n",
    "plt.show()"
   ]
  },
  {
   "cell_type": "markdown",
   "id": "79d0ac41-5e89-483f-b915-47c3795b7759",
   "metadata": {},
   "source": [
    "# 前処理"
   ]
  },
  {
   "cell_type": "code",
   "execution_count": 41,
   "id": "930bc39a-af82-49a8-b2a8-d084337b9288",
   "metadata": {},
   "outputs": [
    {
     "data": {
      "text/plain": [
       "['Unnamed: 0',\n",
       " 'Term',\n",
       " 'NoEmp',\n",
       " 'NewExist',\n",
       " 'CreateJob',\n",
       " 'RetainedJob',\n",
       " 'FranchiseCode',\n",
       " 'RevLineCr',\n",
       " 'LowDoc',\n",
       " 'DisbursementDate',\n",
       " 'MIS_Status',\n",
       " 'Sector',\n",
       " 'ApprovalDate',\n",
       " 'ApprovalFY',\n",
       " 'City',\n",
       " 'State',\n",
       " 'BankState',\n",
       " 'DisbursementGross',\n",
       " 'GrAppv',\n",
       " 'SBA_Appv',\n",
       " 'UrbanRural']"
      ]
     },
     "execution_count": 41,
     "metadata": {},
     "output_type": "execute_result"
    }
   ],
   "source": [
    "list(train.columns)"
   ]
  },
  {
   "cell_type": "code",
   "execution_count": 131,
   "id": "b1a93cc7-0baf-46c7-b48e-269c7dbf69db",
   "metadata": {},
   "outputs": [
    {
     "name": "stdout",
     "output_type": "stream",
     "text": [
      "   Unnamed: 0  Term  NoEmp  CreateJob  RetainedJob  FranchiseCode RevLineCr  \\\n",
      "0           0   163     21          0            0              1         N   \n",
      "1           1    84      6          4            0              0         0   \n",
      "2           2   242     45          4           90              0         N   \n",
      "\n",
      "  LowDoc DisbursementDate ApprovalDate  ApprovalFY       City State BankState  \\\n",
      "0      N        31-Jan-98    22-Sep-06        2006    PHOENIX    AZ        SD   \n",
      "1      N        31-Oct-93    30-Jun-92        1992  MCALESTER    OK        OK   \n",
      "2      N        31-Aug-01    18-Apr-01        2001  HAWTHORNE    NJ        NJ   \n",
      "\n",
      "  DisbursementGross        GrAppv      SBA_Appv  \n",
      "0       $80,000.00    $80,000.00    $68,000.00   \n",
      "1      $287,000.00   $287,000.00   $229,600.00   \n",
      "2       $31,983.00    $30,000.00    $15,000.00   \n",
      "0    1\n",
      "1    1\n",
      "2    1\n",
      "Name: MIS_Status, dtype: int64\n"
     ]
    }
   ],
   "source": [
    "# 説明変数と目的変数を設定\n",
    "x = train[[\n",
    "    'Unnamed: 0',\n",
    "    'Term', \n",
    "    'NoEmp', \n",
    "    'CreateJob', \n",
    "    'RetainedJob', \n",
    "    'FranchiseCode',\n",
    "    'RevLineCr',\n",
    "    'LowDoc',\n",
    "    'DisbursementDate',\n",
    "    'ApprovalDate',\n",
    "    'ApprovalFY',\n",
    "    'City',\n",
    "    'State',\n",
    "    'BankState',\n",
    "    'DisbursementGross',\n",
    "    'GrAppv',\n",
    "    'SBA_Appv'\n",
    "]]\n",
    "\n",
    "y = train['MIS_Status']\n",
    "\n",
    "print(x.head(3))\n",
    "print(y.head(3))"
   ]
  },
  {
   "cell_type": "code",
   "execution_count": 132,
   "id": "729210f4-da3d-4b61-bb4a-2062b856f7a2",
   "metadata": {},
   "outputs": [
    {
     "name": "stdout",
     "output_type": "stream",
     "text": [
      "   Unnamed: 0  Term  NoEmp  CreateJob  RetainedJob  FranchiseCode  ApprovalFY  \\\n",
      "0           0   163     21          0            0              1        2006   \n",
      "\n",
      "   RevLineCr_0  RevLineCr_N  RevLineCr_T  ...  SBA_Appv_$993,750.00   \\\n",
      "0            0            1            0  ...                      0   \n",
      "\n",
      "   SBA_Appv_$996,750.00   SBA_Appv_$997,000.00   SBA_Appv_$997,500.00   \\\n",
      "0                      0                      0                      0   \n",
      "\n",
      "   SBA_Appv_$999,750.00   SBA_Appv_$999,972.00   SBA_Appv_$999,975.00   \\\n",
      "0                      0                      0                      0   \n",
      "\n",
      "   SBA_Appv_$999,992.00   SBA_Appv_$999,994.00   SBA_Appv_$999,996.00   \n",
      "0                      0                      0                      0  \n",
      "\n",
      "[1 rows x 13730 columns]\n",
      "   0  1\n",
      "0  0  1\n"
     ]
    }
   ],
   "source": [
    "# ダミー変数化\n",
    "x_dum = pd.get_dummies(x)\n",
    "y_dum = pd.get_dummies(y)\n",
    "print(x_dum.head(1))\n",
    "print(y_dum.head(1))"
   ]
  },
  {
   "cell_type": "code",
   "execution_count": 133,
   "id": "bed793b6-d349-43af-a08f-5d92a6208a1f",
   "metadata": {},
   "outputs": [
    {
     "data": {
      "text/html": [
       "<div>\n",
       "<style scoped>\n",
       "    .dataframe tbody tr th:only-of-type {\n",
       "        vertical-align: middle;\n",
       "    }\n",
       "\n",
       "    .dataframe tbody tr th {\n",
       "        vertical-align: top;\n",
       "    }\n",
       "\n",
       "    .dataframe thead th {\n",
       "        text-align: right;\n",
       "    }\n",
       "</style>\n",
       "<table border=\"1\" class=\"dataframe\">\n",
       "  <thead>\n",
       "    <tr style=\"text-align: right;\">\n",
       "      <th></th>\n",
       "      <th>ChargedOff</th>\n",
       "    </tr>\n",
       "  </thead>\n",
       "  <tbody>\n",
       "    <tr>\n",
       "      <th>0</th>\n",
       "      <td>0</td>\n",
       "    </tr>\n",
       "    <tr>\n",
       "      <th>1</th>\n",
       "      <td>0</td>\n",
       "    </tr>\n",
       "    <tr>\n",
       "      <th>2</th>\n",
       "      <td>0</td>\n",
       "    </tr>\n",
       "    <tr>\n",
       "      <th>3</th>\n",
       "      <td>0</td>\n",
       "    </tr>\n",
       "    <tr>\n",
       "      <th>4</th>\n",
       "      <td>0</td>\n",
       "    </tr>\n",
       "  </tbody>\n",
       "</table>\n",
       "</div>"
      ],
      "text/plain": [
       "   ChargedOff\n",
       "0           0\n",
       "1           0\n",
       "2           0\n",
       "3           0\n",
       "4           0"
      ]
     },
     "execution_count": 133,
     "metadata": {},
     "output_type": "execute_result"
    }
   ],
   "source": [
    "# 予測対象カラム選択\n",
    "# 今回は値0を選択\n",
    "y_dum = y_dum.drop(columns=[1])\n",
    "\n",
    "y_dum['ChargedOff'] = y_dum[0]\n",
    "y_dum = y_dum.drop(columns=0)\n",
    "y_dum.head()"
   ]
  },
  {
   "cell_type": "markdown",
   "id": "10c6dc4b-6e45-4ca3-9f84-679b915f551d",
   "metadata": {},
   "source": [
    "# モデリング"
   ]
  },
  {
   "cell_type": "code",
   "execution_count": 70,
   "id": "bc89b5db-347f-4c4a-9c1b-d8e41a4ec353",
   "metadata": {},
   "outputs": [],
   "source": [
    "# def model():\n",
    "#     \"\"\"\n",
    "#     model_ver_1\n",
    "#     \"\"\"\n",
    "#     # データ分割\n",
    "#     X_train, X_test, y_train, y_test = train_test_split(x_dum, y_dum, random_state=0, stratify=y_dum[0])\n",
    "#     # モデル学習\n",
    "#     lr = LogisticRegression()\n",
    "#     lr.fit(X_train, y_train)\n",
    "#     # 予測\n",
    "#     pred = lr.predict(X_test)\n",
    "#     # 評価\n",
    "#     f_one = f1_score(y_test, pred)\n",
    "    \n",
    "#     return f_one"
   ]
  },
  {
   "cell_type": "code",
   "execution_count": 72,
   "id": "42e1e1ce-a00d-4a7b-b108-a340a8251b19",
   "metadata": {},
   "outputs": [],
   "source": [
    "# %%time\n",
    "# # モデル実行\n",
    "# model()\n",
    "\n",
    "# \"\"\"\"\"\"\"\"\"\"\"\"\"\"\"\"\"\"\"\"\"\"\"\"\n",
    "# /opt/anaconda3/lib/python3.9/site-packages/sklearn/utils/validation.py:1111: DataConversionWarning: A column-vector y was passed when a 1d array was expected. Please change the shape of y to (n_samples, ), for example using ravel().\n",
    "#   y = column_or_1d(y, warn=True)\n",
    "# /opt/anaconda3/lib/python3.9/site-packages/sklearn/linear_model/_logistic.py:444: ConvergenceWarning: lbfgs failed to converge (status=1):\n",
    "# STOP: TOTAL NO. of ITERATIONS REACHED LIMIT.\n",
    "\n",
    "# Increase the number of iterations (max_iter) or scale the data as shown in:\n",
    "#     https://scikit-learn.org/stable/modules/preprocessing.html\n",
    "# Please also refer to the documentation for alternative solver options:\n",
    "#     https://scikit-learn.org/stable/modules/linear_model.html#logistic-regression\n",
    "#   n_iter_i = _check_optimize_result(\n",
    "# 0.0\n",
    "# \"\"\"\"\"\"\"\"\"\"\"\"\"\"\"\"\"\"\"\"\"\"\"\""
   ]
  },
  {
   "cell_type": "code",
   "execution_count": 135,
   "id": "0978108a-e5ba-4984-a184-ac2eab403a46",
   "metadata": {},
   "outputs": [],
   "source": [
    "# データ分割\n",
    "X_train, X_test, y_train, y_test = train_test_split(x_dum, y_dum, random_state=0, stratify=y_dum['ChargedOff'])"
   ]
  },
  {
   "cell_type": "code",
   "execution_count": 136,
   "id": "2d3493b6-f516-4f47-afa1-973bf83656f6",
   "metadata": {},
   "outputs": [
    {
     "name": "stderr",
     "output_type": "stream",
     "text": [
      "/opt/anaconda3/lib/python3.9/site-packages/sklearn/utils/validation.py:1111: DataConversionWarning: A column-vector y was passed when a 1d array was expected. Please change the shape of y to (n_samples, ), for example using ravel().\n",
      "  y = column_or_1d(y, warn=True)\n"
     ]
    },
    {
     "data": {
      "text/html": [
       "<style>#sk-container-id-3 {color: black;background-color: white;}#sk-container-id-3 pre{padding: 0;}#sk-container-id-3 div.sk-toggleable {background-color: white;}#sk-container-id-3 label.sk-toggleable__label {cursor: pointer;display: block;width: 100%;margin-bottom: 0;padding: 0.3em;box-sizing: border-box;text-align: center;}#sk-container-id-3 label.sk-toggleable__label-arrow:before {content: \"▸\";float: left;margin-right: 0.25em;color: #696969;}#sk-container-id-3 label.sk-toggleable__label-arrow:hover:before {color: black;}#sk-container-id-3 div.sk-estimator:hover label.sk-toggleable__label-arrow:before {color: black;}#sk-container-id-3 div.sk-toggleable__content {max-height: 0;max-width: 0;overflow: hidden;text-align: left;background-color: #f0f8ff;}#sk-container-id-3 div.sk-toggleable__content pre {margin: 0.2em;color: black;border-radius: 0.25em;background-color: #f0f8ff;}#sk-container-id-3 input.sk-toggleable__control:checked~div.sk-toggleable__content {max-height: 200px;max-width: 100%;overflow: auto;}#sk-container-id-3 input.sk-toggleable__control:checked~label.sk-toggleable__label-arrow:before {content: \"▾\";}#sk-container-id-3 div.sk-estimator input.sk-toggleable__control:checked~label.sk-toggleable__label {background-color: #d4ebff;}#sk-container-id-3 div.sk-label input.sk-toggleable__control:checked~label.sk-toggleable__label {background-color: #d4ebff;}#sk-container-id-3 input.sk-hidden--visually {border: 0;clip: rect(1px 1px 1px 1px);clip: rect(1px, 1px, 1px, 1px);height: 1px;margin: -1px;overflow: hidden;padding: 0;position: absolute;width: 1px;}#sk-container-id-3 div.sk-estimator {font-family: monospace;background-color: #f0f8ff;border: 1px dotted black;border-radius: 0.25em;box-sizing: border-box;margin-bottom: 0.5em;}#sk-container-id-3 div.sk-estimator:hover {background-color: #d4ebff;}#sk-container-id-3 div.sk-parallel-item::after {content: \"\";width: 100%;border-bottom: 1px solid gray;flex-grow: 1;}#sk-container-id-3 div.sk-label:hover label.sk-toggleable__label {background-color: #d4ebff;}#sk-container-id-3 div.sk-serial::before {content: \"\";position: absolute;border-left: 1px solid gray;box-sizing: border-box;top: 0;bottom: 0;left: 50%;z-index: 0;}#sk-container-id-3 div.sk-serial {display: flex;flex-direction: column;align-items: center;background-color: white;padding-right: 0.2em;padding-left: 0.2em;position: relative;}#sk-container-id-3 div.sk-item {position: relative;z-index: 1;}#sk-container-id-3 div.sk-parallel {display: flex;align-items: stretch;justify-content: center;background-color: white;position: relative;}#sk-container-id-3 div.sk-item::before, #sk-container-id-3 div.sk-parallel-item::before {content: \"\";position: absolute;border-left: 1px solid gray;box-sizing: border-box;top: 0;bottom: 0;left: 50%;z-index: -1;}#sk-container-id-3 div.sk-parallel-item {display: flex;flex-direction: column;z-index: 1;position: relative;background-color: white;}#sk-container-id-3 div.sk-parallel-item:first-child::after {align-self: flex-end;width: 50%;}#sk-container-id-3 div.sk-parallel-item:last-child::after {align-self: flex-start;width: 50%;}#sk-container-id-3 div.sk-parallel-item:only-child::after {width: 0;}#sk-container-id-3 div.sk-dashed-wrapped {border: 1px dashed gray;margin: 0 0.4em 0.5em 0.4em;box-sizing: border-box;padding-bottom: 0.4em;background-color: white;}#sk-container-id-3 div.sk-label label {font-family: monospace;font-weight: bold;display: inline-block;line-height: 1.2em;}#sk-container-id-3 div.sk-label-container {text-align: center;}#sk-container-id-3 div.sk-container {/* jupyter's `normalize.less` sets `[hidden] { display: none; }` but bootstrap.min.css set `[hidden] { display: none !important; }` so we also need the `!important` here to be able to override the default hidden behavior on the sphinx rendered scikit-learn.org. See: https://github.com/scikit-learn/scikit-learn/issues/21755 */display: inline-block !important;position: relative;}#sk-container-id-3 div.sk-text-repr-fallback {display: none;}</style><div id=\"sk-container-id-3\" class=\"sk-top-container\"><div class=\"sk-text-repr-fallback\"><pre>LogisticRegression()</pre><b>In a Jupyter environment, please rerun this cell to show the HTML representation or trust the notebook. <br />On GitHub, the HTML representation is unable to render, please try loading this page with nbviewer.org.</b></div><div class=\"sk-container\" hidden><div class=\"sk-item\"><div class=\"sk-estimator sk-toggleable\"><input class=\"sk-toggleable__control sk-hidden--visually\" id=\"sk-estimator-id-3\" type=\"checkbox\" checked><label for=\"sk-estimator-id-3\" class=\"sk-toggleable__label sk-toggleable__label-arrow\">LogisticRegression</label><div class=\"sk-toggleable__content\"><pre>LogisticRegression()</pre></div></div></div></div></div>"
      ],
      "text/plain": [
       "LogisticRegression()"
      ]
     },
     "execution_count": 136,
     "metadata": {},
     "output_type": "execute_result"
    }
   ],
   "source": [
    "# モデル学習\n",
    "lr = LogisticRegression()\n",
    "lr.fit(X_train, y_train)"
   ]
  },
  {
   "cell_type": "code",
   "execution_count": 137,
   "id": "9e02228f-987f-4253-8bc0-e2ef5f98e5e9",
   "metadata": {},
   "outputs": [
    {
     "data": {
      "text/plain": [
       "0.0"
      ]
     },
     "execution_count": 137,
     "metadata": {},
     "output_type": "execute_result"
    }
   ],
   "source": [
    "# 予測\n",
    "pred = lr.predict(X_test)\n",
    "# 評価\n",
    "f_one = f1_score(y_test, pred)\n",
    "f_one"
   ]
  },
  {
   "cell_type": "code",
   "execution_count": 138,
   "id": "35cfdff4-8e47-4726-b20f-a3af15a2ec57",
   "metadata": {},
   "outputs": [
    {
     "data": {
      "text/plain": [
       "array([[9442,    0],\n",
       "       [1135,    0]])"
      ]
     },
     "execution_count": 138,
     "metadata": {},
     "output_type": "execute_result"
    }
   ],
   "source": [
    "# 限りなく精度が悪いので、混同行列確認\n",
    "cm = confusion_matrix(y_test, pred)\n",
    "cm"
   ]
  },
  {
   "cell_type": "markdown",
   "id": "e38f9855-3306-46c2-bb42-8539703ed4aa",
   "metadata": {},
   "source": [
    "↑左下のFNが多い（実際は貸し倒れなのに完済と予測しているサンプル数が多い）"
   ]
  },
  {
   "cell_type": "markdown",
   "id": "384cc0ca-0a69-4f05-9884-b1dc251e1e17",
   "metadata": {},
   "source": [
    "# モデル改善"
   ]
  },
  {
   "cell_type": "markdown",
   "id": "82e3b45b-8070-4e77-8a60-e46ad7a386f4",
   "metadata": {},
   "source": [
    "【todo】  \n",
    "・欠損値除去  \n",
    "・学習に使うカラムの再選定  \n",
    "・パラメータ設定  \n",
    "・しきい値調整  \n",
    "・モデル変更  "
   ]
  },
  {
   "cell_type": "code",
   "execution_count": null,
   "id": "f779720d-2599-47d0-a9ed-9e4c3d0ea2e7",
   "metadata": {},
   "outputs": [],
   "source": []
  },
  {
   "cell_type": "markdown",
   "id": "ade5fd71-323b-49fb-9bbc-c69b237c5bb0",
   "metadata": {},
   "source": [
    "# submit"
   ]
  },
  {
   "cell_type": "code",
   "execution_count": 139,
   "id": "abc90934-38f9-42e4-bb1f-09c491d58839",
   "metadata": {},
   "outputs": [
    {
     "data": {
      "text/html": [
       "<div>\n",
       "<style scoped>\n",
       "    .dataframe tbody tr th:only-of-type {\n",
       "        vertical-align: middle;\n",
       "    }\n",
       "\n",
       "    .dataframe tbody tr th {\n",
       "        vertical-align: top;\n",
       "    }\n",
       "\n",
       "    .dataframe thead th {\n",
       "        text-align: right;\n",
       "    }\n",
       "</style>\n",
       "<table border=\"1\" class=\"dataframe\">\n",
       "  <thead>\n",
       "    <tr style=\"text-align: right;\">\n",
       "      <th></th>\n",
       "      <th>y</th>\n",
       "    </tr>\n",
       "  </thead>\n",
       "  <tbody>\n",
       "    <tr>\n",
       "      <th>0</th>\n",
       "      <td>0</td>\n",
       "    </tr>\n",
       "    <tr>\n",
       "      <th>1</th>\n",
       "      <td>0</td>\n",
       "    </tr>\n",
       "    <tr>\n",
       "      <th>2</th>\n",
       "      <td>0</td>\n",
       "    </tr>\n",
       "    <tr>\n",
       "      <th>3</th>\n",
       "      <td>0</td>\n",
       "    </tr>\n",
       "    <tr>\n",
       "      <th>4</th>\n",
       "      <td>0</td>\n",
       "    </tr>\n",
       "  </tbody>\n",
       "</table>\n",
       "</div>"
      ],
      "text/plain": [
       "   y\n",
       "0  0\n",
       "1  0\n",
       "2  0\n",
       "3  0\n",
       "4  0"
      ]
     },
     "execution_count": 139,
     "metadata": {},
     "output_type": "execute_result"
    }
   ],
   "source": [
    "target_pred = pd.Series(pred, name='y')\n",
    "target_pred = pd.DataFrame(target_pred)\n",
    "target_pred.head()"
   ]
  },
  {
   "cell_type": "code",
   "execution_count": 140,
   "id": "fa810ed1-6367-4f01-8b78-c37ee784ee6a",
   "metadata": {},
   "outputs": [
    {
     "data": {
      "text/plain": [
       "(10577, 1)"
      ]
     },
     "execution_count": 140,
     "metadata": {},
     "output_type": "execute_result"
    }
   ],
   "source": [
    "# target_pred = target_pred.drop(range(42308, ))\n",
    "target_pred.shape"
   ]
  },
  {
   "cell_type": "code",
   "execution_count": 141,
   "id": "a61c2c3d-f580-45f6-acff-4ad17a92646d",
   "metadata": {},
   "outputs": [
    {
     "data": {
      "text/plain": [
       "['Unnamed: 0',\n",
       " 'Term',\n",
       " 'NoEmp',\n",
       " 'NewExist',\n",
       " 'CreateJob',\n",
       " 'RetainedJob',\n",
       " 'FranchiseCode',\n",
       " 'RevLineCr',\n",
       " 'LowDoc',\n",
       " 'DisbursementDate',\n",
       " 'Sector',\n",
       " 'ApprovalDate',\n",
       " 'ApprovalFY',\n",
       " 'City',\n",
       " 'State',\n",
       " 'BankState',\n",
       " 'DisbursementGross',\n",
       " 'GrAppv',\n",
       " 'SBA_Appv',\n",
       " 'UrbanRural']"
      ]
     },
     "execution_count": 141,
     "metadata": {},
     "output_type": "execute_result"
    }
   ],
   "source": [
    "list(test.columns)"
   ]
  },
  {
   "cell_type": "code",
   "execution_count": 142,
   "id": "04d2b2d1-b711-418e-88d1-d3e39232a361",
   "metadata": {},
   "outputs": [],
   "source": [
    "submit_data = pd.concat([test['Unnamed: 0'], target_pred], axis=1)\n",
    "submit_data.to_csv('submission_2nd.csv', header=None, index=False)"
   ]
  },
  {
   "cell_type": "code",
   "execution_count": null,
   "id": "57ea0ea6-a3ee-4a28-9e22-7946c5015a7d",
   "metadata": {},
   "outputs": [],
   "source": []
  },
  {
   "cell_type": "code",
   "execution_count": null,
   "id": "6014398d-ffb0-4c94-8989-e71c8d43376b",
   "metadata": {},
   "outputs": [],
   "source": []
  }
 ],
 "metadata": {
  "kernelspec": {
   "display_name": "Python 3 (ipykernel)",
   "language": "python",
   "name": "python3"
  },
  "language_info": {
   "codemirror_mode": {
    "name": "ipython",
    "version": 3
   },
   "file_extension": ".py",
   "mimetype": "text/x-python",
   "name": "python",
   "nbconvert_exporter": "python",
   "pygments_lexer": "ipython3",
   "version": "3.11.5"
  },
  "toc-autonumbering": true
 },
 "nbformat": 4,
 "nbformat_minor": 5
}
